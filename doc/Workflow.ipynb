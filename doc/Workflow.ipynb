{
 "cells": [
  {
   "cell_type": "markdown",
   "metadata": {},
   "source": [
    "# UNSEEN-open\n",
    "\n",
    "In this project, the aim is to build an open, reproducible, and transferable workflow for UNSEEN.\n",
    "<!-- -- an increasingly popular method that exploits seasonal prediction systems to assess and anticipate climate extremes beyond the observed record. The approach uses pooled forecasts as plausible alternate realities. Instead of the 'single realization' of reality, pooled forecasts can be exploited to better assess the likelihood of infrequent events.  -->\n",
    "\n",
    "This means that **anyone** can assess **any** climate extreme event **anywhere** in the world!\n",
    "\n",
    "The workflow consists of four steps, as illustrated below:"
   ]
  },
  {
   "cell_type": "markdown",
   "metadata": {},
   "source": [
    "![title](../../graphs/Workflow.png)"
   ]
  },
  {
   "cell_type": "markdown",
   "metadata": {},
   "source": [
    "## Overview\n",
    "\n",
    "Here we provide an overview of the steps in UNSEEN-open."
   ]
  },
  {
   "cell_type": "markdown",
   "metadata": {},
   "source": [
    "### Retrieve"
   ]
  },
  {
   "cell_type": "markdown",
   "metadata": {},
   "source": [
    "We use *global open* Copernicus C3S data: the seasonal prediction system SEAS5 and the reanlysis ERA5. \n",
    "\n",
    "The functions to retrieve all forecasts (SEAS5) and reanalysis (ERA5) are `retrieve_SEAS5` and `retrieve_ERA5`. You can select the climate variable, the target month(s) and the area - for more explanation see [retrieve](1.Download/1.Retrieve.ipynb)."
   ]
  },
  {
   "cell_type": "code",
   "execution_count": 1,
   "metadata": {
    "nbsphinx": "hidden"
   },
   "outputs": [],
   "source": [
    "import os\n",
    "import sys\n",
    "sys.path.insert(0, os.path.abspath('../../'))\n",
    "os.chdir(os.path.abspath('../../'))\n",
    "\n",
    "import src.cdsretrieve as retrieve\n",
    "import src.preprocess as preprocess\n",
    "\n",
    "import numpy as np\n",
    "import xarray as xr"
   ]
  },
  {
   "cell_type": "code",
   "execution_count": 2,
   "metadata": {},
   "outputs": [],
   "source": [
    "retrieve.retrieve_SEAS5(\n",
    "    variables=['2m_temperature', '2m_dewpoint_temperature'],\n",
    "    target_months=[3, 4, 5],\n",
    "    area=[70, -11, 30, 120],\n",
    "    years=np.arange(1981, 2021),\n",
    "    folder='../Siberia_example/SEAS5/')"
   ]
  },
  {
   "cell_type": "code",
   "execution_count": 3,
   "metadata": {},
   "outputs": [],
   "source": [
    "retrieve.retrieve_ERA5(variables=['2m_temperature', '2m_dewpoint_temperature'],\n",
    "                       target_months=[3, 4, 5],\n",
    "                       area=[70, -11, 30, 120],\n",
    "                       folder='../Siberia_example/ERA5/')"
   ]
  },
  {
   "cell_type": "markdown",
   "metadata": {},
   "source": [
    "### Preprocess"
   ]
  },
  {
   "cell_type": "markdown",
   "metadata": {},
   "source": [
    "In the preprocessing step, we first merge all downloaded files into one netcdf file.\n",
    "Then the rest of the preprocessing depends on the definition of the extreme event. For example, for the UK case study, we want to extract the UK average precipitation while for the Siberian heatwave we will just used the defined area to spatially average over. For the MAM season, we still need to take the seasonal average, while for the UK we already have the average February precipitation. \n",
    "\n",
    "Read the docs on [preprocessing](2.Preprocess/2.Preprocess.ipynb) for more info. \n",
    "<!-- \n",
    "The merged xarray dataset looks like this: -->"
   ]
  },
  {
   "cell_type": "markdown",
   "metadata": {},
   "source": [
    "### Evaluate"
   ]
  },
  {
   "cell_type": "markdown",
   "metadata": {},
   "source": [
    "The evaluation step is important to assess whether the forecasts are realistic and consistent to the observations. \n",
    "There are three statistical tests available through the [UNSEEN R package](https://github.com/timokelder/UNSEEN). \n",
    "See the [evaluation section](3.Evaluate/3.Evaluate.ipynb) and also [this paper](https://doi.org/10.31223/osf.io/hyxeq) for more info.\n"
   ]
  },
  {
   "cell_type": "markdown",
   "metadata": {},
   "source": [
    "### Case studies\n",
    "So what can we learn from UNSEEN-open? \n",
    "\n",
    "Have a look at the [examples](https://unseen-open.readthedocs.io/en/latest/Notebooks/Examples.html)!"
   ]
  }
 ],
 "metadata": {
  "kernelspec": {
   "display_name": "UNSEEN-open",
   "language": "python",
   "name": "unseen-open"
  },
  "language_info": {
   "codemirror_mode": {
    "name": "ipython",
    "version": 3
   },
   "file_extension": ".py",
   "mimetype": "text/x-python",
   "name": "python",
   "nbconvert_exporter": "python",
   "pygments_lexer": "ipython3",
   "version": "3.8.2"
  }
 },
 "nbformat": 4,
 "nbformat_minor": 4
}
