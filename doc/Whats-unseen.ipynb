{
 "cells": [
  {
   "cell_type": "markdown",
   "metadata": {},
   "source": [
    "# What is UNSEEN?\n",
    "\n",
    "The UNprecedented Simulated Extremes using ENsembles (UNSEEN, [Thompson et al., 2017](https://www.nature.com/articles/s41467-017-00275-3)) approach uses forecast ensemble members to compute robust statistics for rare events, which is challenging to compute from historical records. UNSEEN may therefore help to identify plausible – yet unseen – weather extremes and to stress-test adaptation measures with maximum credible events. For more info about UNSEEN, see our [preprint](https://doi.org/10.31223/X5T04C), BOX A in particular.\n",
    "\n",
    "We believe UNSEEN has large potential as a tool to inform decision-making about unforeseen hydro-climatic risks. In order to apply UNSEEN: \n",
    "1. Model ensemble members must be applicable for generating large samples of weather events (see Box B in [paper](https://doi.org/10.31223/X5T04C)); and \n",
    "2. Large volumes of data must be handled. \n",
    "\n",
    "Our [paper](https://doi.org/10.31223/X5T04C) presents a *6-step protocol* (see below) and, as part of the protocol, the *UNSEEN-open workflow*, to guide users in applying UNSEEN more generally. The paper discusses the protocol in detail, including the practicalities of the workflow and its potential application to other datasets. The technical steps and relevant code are documented here. The protocol is applicable to any prediction system, whilst the code and guidance for UNSEEN-open is developed to work with the Copernicus Data Store (CDS, https://cds.climate.copernicus.eu/).\n",
    "<!-- openly available through supporting technical documentation: https://unseen-open.readthedocs.io. Links to these web resources are included within the paper, rather than including code itself, to ensure resilience against potential data source or model updates. -->\n",
    "<!-- Recently, we applied this method to SEAS5 for the first time, with promising results for extreme precipitation over Norway and Svalbard (submitted to [*NPJ Climate and Atmospheric Science*](https://doi.org/10.1038/s41612-020-00149-4)). SEAS5 is a good dataset for the UNSEEN approach because it is freely available and has a high resolution and a large ensemble compared to global climate models. To make this approach more accessible, we develop an open, reproducible and transferable workflow for the UNSEEN method using the open access SEAS5 dataset on the CDS. -->\n",
    "\n",
    "## UNSEEN-open\n",
    "\n",
    "In this project, the aim is to build an open, reproducible, and transferable workflow for UNSEEN.\n",
    "\n",
    "This means that we aim for **anyone** to be able to assess **any** climate extreme event **anywhere** in the world!\n",
    "\n",
    "UNSEEN-open was therefore developed with a focus on Copernicus SEAS5 forecasts, because it is an openly available, stable, homogeneous, global, high-resolution, large ensemble with continuous evaluation at ECMWF. We refer to section 4.2 of our [paper](https://doi.org/10.31223/X5T04C) for a discussion of other relevant datasets.\n",
    "\n",
    "All code showing how UNSEEN data can be handled is documented on Jupyter notebooks. This means that some familiarity with python and R is (currently) required. Future further developments of tools and applications that do not require coding by the user themselves would be very interesting if time and funding allows! "
   ]
  },
  {
   "cell_type": "markdown",
   "metadata": {},
   "source": [
    "![title](../graphs/Figure1_Protocol_General_SEAS5.png)"
   ]
  },
  {
   "cell_type": "markdown",
   "metadata": {},
   "source": [
    "## Overview\n",
    "\n",
    "Here we provide an overview of steps 3-5 for UNSEEN-open."
   ]
  },
  {
   "cell_type": "markdown",
   "metadata": {},
   "source": [
    "### Retrieve"
   ]
  },
  {
   "cell_type": "markdown",
   "metadata": {},
   "source": [
    "We use *global open* Copernicus C3S data: the seasonal prediction system SEAS5 and the reanlysis ERA5. \n",
    "\n",
    "The functions to retrieve all forecasts (SEAS5) and reanalysis (ERA5) are `retrieve_SEAS5` and `retrieve_ERA5`. You can select the climate variable, the target month(s) and the area - for more explanation see [retrieve](Notebooks/1.Download/1.Retrieve.ipynb)."
   ]
  },
  {
   "cell_type": "code",
   "execution_count": 1,
   "metadata": {
    "nbsphinx": "hidden"
   },
   "outputs": [],
   "source": [
    "import os\n",
    "import sys\n",
    "sys.path.insert(0, os.path.abspath('../../'))\n",
    "os.chdir(os.path.abspath('../../'))\n",
    "\n",
    "import src.cdsretrieve as retrieve\n",
    "import src.preprocess as preprocess\n",
    "\n",
    "import numpy as np\n",
    "import xarray as xr"
   ]
  },
  {
   "cell_type": "code",
   "execution_count": 2,
   "metadata": {},
   "outputs": [],
   "source": [
    "retrieve.retrieve_SEAS5(\n",
    "    variables=['2m_temperature', '2m_dewpoint_temperature'],\n",
    "    target_months=[3, 4, 5],\n",
    "    area=[70, -11, 30, 120],\n",
    "    years=np.arange(1981, 2021),\n",
    "    folder='../Siberia_example/SEAS5/')"
   ]
  },
  {
   "cell_type": "code",
   "execution_count": 3,
   "metadata": {},
   "outputs": [],
   "source": [
    "retrieve.retrieve_ERA5(variables=['2m_temperature', '2m_dewpoint_temperature'],\n",
    "                       target_months=[3, 4, 5],\n",
    "                       area=[70, -11, 30, 120],\n",
    "                       folder='../Siberia_example/ERA5/')"
   ]
  },
  {
   "cell_type": "markdown",
   "metadata": {},
   "source": [
    "### Preprocess"
   ]
  },
  {
   "cell_type": "markdown",
   "metadata": {},
   "source": [
    "In the preprocessing step, we first merge all downloaded files into one netcdf file.\n",
    "Then the rest of the preprocessing depends on the definition of the extreme event. For example, for the UK case study, we want to extract the UK average precipitation while for the Siberian heatwave we will just used the defined area to spatially average over. For the MAM season, we still need to take the seasonal average, while for the UK we already have the average February precipitation. \n",
    "\n",
    "Read the docs on [preprocessing](Notebooks/2.Preprocess/2.Preprocess.ipynb) for more info. \n",
    "<!-- \n",
    "The merged xarray dataset looks like this: -->"
   ]
  },
  {
   "cell_type": "markdown",
   "metadata": {},
   "source": [
    "### Evaluate"
   ]
  },
  {
   "cell_type": "markdown",
   "metadata": {},
   "source": [
    "The evaluation step is important to assess whether the forecasts are realistic and consistent to the observations. \n",
    "There are three statistical tests available through the [UNSEEN R package](https://github.com/timokelder/UNSEEN). \n",
    "See the [evaluation section](Notebooks/3.Evaluate/3.Evaluate.ipynb) for more info.\n"
   ]
  },
  {
   "cell_type": "markdown",
   "metadata": {},
   "source": [
    "### Case studies\n",
    "So what can we learn from UNSEEN-open? \n",
    "\n",
    "Have a look at the [examples](https://unseen-open.readthedocs.io/en/latest/Notebooks/Examples.html)!"
   ]
  }
 ],
 "metadata": {
  "kernelspec": {
   "display_name": "UNSEEN-open",
   "language": "python",
   "name": "unseen-open"
  },
  "language_info": {
   "codemirror_mode": {
    "name": "ipython",
    "version": 3
   },
   "file_extension": ".py",
   "mimetype": "text/x-python",
   "name": "python",
   "nbconvert_exporter": "python",
   "pygments_lexer": "ipython3",
   "version": "3.8.2"
  }
 },
 "nbformat": 4,
 "nbformat_minor": 4
}
