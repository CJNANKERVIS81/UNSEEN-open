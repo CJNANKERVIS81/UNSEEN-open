{
 "cells": [
  {
   "cell_type": "markdown",
   "metadata": {},
   "source": [
    "## 1. Download\n",
    "\n",
    "In this notebook we illustrate how to download and visualize the model simulations (SEAS5) and the oberved record (EOBS) we use for the application of anticipating February extreme precipitation beyong the observed record. \n",
    "\n"
   ]
  },
  {
   "cell_type": "markdown",
   "metadata": {},
   "source": [
    "We download the data from the Climate Data Store ([CDS](https://cds.climate.copernicus.eu/cdsapp#!/search?type=dataset)). \n",
    "For how to get started with CDS, see notebook [1.1 Setting up the CDS download](1.Download/1.1SetUp.ipynb)."
   ]
  },
  {
   "cell_type": "code",
   "execution_count": null,
   "metadata": {},
   "outputs": [],
   "source": []
  }
 ],
 "metadata": {
  "kernelspec": {
   "display_name": "Python 3",
   "language": "python",
   "name": "python3"
  },
  "language_info": {
   "codemirror_mode": {
    "name": "ipython",
    "version": 3
   },
   "file_extension": ".py",
   "mimetype": "text/x-python",
   "name": "python",
   "nbconvert_exporter": "python",
   "pygments_lexer": "ipython3",
   "version": "3.8.2"
  }
 },
 "nbformat": 4,
 "nbformat_minor": 4
}
