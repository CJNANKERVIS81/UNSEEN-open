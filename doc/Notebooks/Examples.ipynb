{
 "cells": [
  {
   "cell_type": "markdown",
   "metadata": {},
   "source": [
    "<div class=\"alert alert-info\">\n",
    "\n",
    "Launch in Binder                                      [![Binder](https://mybinder.org/badge_logo.svg)](https://mybinder.org/v2/gh/esowc/UNSEEN-open/master/?filepath=doc%2FNotebooks%2FExamples.ipynb)\n",
    "\n",
    "<!-- Or launch an [Rstudio instance](https://mybinder.org/v2/gh/esowc/UNSEEN-open/master?urlpath=rstudio?filepath=doc%2FNotebooks%2FExamples.ipynb)\n",
    " -->\n",
    "</div>"
   ]
  },
  {
   "cell_type": "markdown",
   "metadata": {},
   "source": [
    "# Examples\n",
    "\n",
    "\n",
    "In this project, UNSEEN-open is applied to assess two extreme events in 2020: February 2020 UK precipitation and the 2020 Siberian heatwave."
   ]
  },
  {
   "cell_type": "markdown",
   "metadata": {},
   "source": [
    "## Siberian Heatwave\n",
    "The 2020 Siberian heatwave was a prolonged event that consistently broke monthly temperature the records. We show a gif of the temperature rank within the observations from 1979-2020, see [this section](Global_monthly_temperature_records_ERA5.ipynb) for details.\n",
    "- Rank 1 mean highest on record\n",
    "- Rank 2 means second highest\n",
    "- etc..\n",
    "\n",
    "![Siberian Temperature records 2020](../../graphs/Siberia_Animation_01.gif \"Records2020\")\n",
    "\n",
    "[This attribution study](https://www.worldweatherattribution.org/siberian-heatwave-of-2020-almost-impossible-without-climate-change/) by World Weather Attribution (WWA) has shown that the event was made much more likely (600x) because of human induced climate change but also that the event was a very rare event within our present climate.\n",
    "\n",
    "*Could such an event be anticipation with UNSEEN?* \n",
    "\n",
    "With UNSEEN-open, we can assess whether extreme events like the Siberian heatwave have been forecasted already, i.e. whether we can anticipate such an event by exploiting all forecasts over the domain. "
   ]
  },
  {
   "cell_type": "markdown",
   "metadata": {},
   "source": [
    "### Retrieve data"
   ]
  },
  {
   "cell_type": "markdown",
   "metadata": {
    "nbsphinx": "hidden"
   },
   "source": [
    "<div class=\"alert alert-info\">\n",
    "\n",
    "Note\n",
    "    \n",
    "In this notebook you cannot use the python functions under Retrieve and Preprocess (they are here only for documentation on the entire workflow, see [retrieve](1.Download/1.Retrieve.ipynb) if you want to download your own dataset. The resulting preprocessed dataset is provided so you can perform statistical analysis on the dataset and rerun the evaluation and examples provided.\n",
    "    \n",
    "</div>"
   ]
  },
  {
   "cell_type": "markdown",
   "metadata": {},
   "source": [
    "The main functions to retrieve all forecasts (SEAS5) and reanalysis (ERA5) are `retrieve_SEAS5` and `retrieve_ERA5`. We want to download 2m temperature, for the March-May target months over the Siberian domain. By default, the hindcast years of 1981-2016 are downloaded for SEAS5. We include the years 1981-2020. The folder indicates where the files will be stored, in this case outside of the UNSEEN-open repository, in a 'Siberia_example' directory. For more explanation, see [retrieve](1.Download/1.Retrieve.ipynb)."
   ]
  },
  {
   "cell_type": "code",
   "execution_count": null,
   "metadata": {},
   "outputs": [],
   "source": [
    "retrieve.retrieve_SEAS5(\n",
    "    variables=['2m_temperature', '2m_dewpoint_temperature'],\n",
    "    target_months=[3, 4, 5],\n",
    "    area=[70, -11, 30, 120],\n",
    "    years=np.arange(1981, 2021),\n",
    "    folder='../Siberia_example/SEAS5/')"
   ]
  },
  {
   "cell_type": "code",
   "execution_count": null,
   "metadata": {},
   "outputs": [],
   "source": [
    "retrieve.retrieve_ERA5(variables=['2m_temperature', '2m_dewpoint_temperature'],\n",
    "                       target_months=[3, 4, 5],\n",
    "                       area=[70, -11, 30, 120],\n",
    "                       folder='../Siberia_example/ERA5/')"
   ]
  },
  {
   "cell_type": "markdown",
   "metadata": {},
   "source": [
    "### Preprocess"
   ]
  },
  {
   "cell_type": "markdown",
   "metadata": {},
   "source": [
    "In the preprocessing step, we first merge all downloaded files into one xarray dataset, then take the spatial average over the domain and a temporal average over the MAM season. Read the docs on [preprocessing](2.Preprocess/2.Preprocess.ipynb) for more info. "
   ]
  },
  {
   "cell_type": "code",
   "execution_count": null,
   "metadata": {},
   "outputs": [],
   "source": [
    "SEAS5_Siberia = preprocess.merge_SEAS5(folder = '../Siberia_example/SEAS5/', target_months = [3,4,5])"
   ]
  },
  {
   "cell_type": "markdown",
   "metadata": {},
   "source": [
    "And for ERA5:"
   ]
  },
  {
   "cell_type": "code",
   "execution_count": null,
   "metadata": {},
   "outputs": [],
   "source": [
    "ERA5_Siberia = xr.open_mfdataset('../Siberia_example/ERA5/ERA5_????.nc',combine='by_coords')"
   ]
  },
  {
   "cell_type": "markdown",
   "metadata": {},
   "source": [
    "Then we calculate the day-in-month weighted seasonal average: "
   ]
  },
  {
   "cell_type": "code",
   "execution_count": null,
   "metadata": {},
   "outputs": [],
   "source": [
    "SEAS5_Siberia_weighted = preprocess.season_mean(SEAS5_Siberia, years = 39)\n",
    "ERA5_Siberia_weighted = preprocess.season_mean(ERA5_Siberia, years = 42)"
   ]
  },
  {
   "cell_type": "markdown",
   "metadata": {},
   "source": [
    "And we select the 2m temperature, and take the average over a further specified domain. This is a simple average, a area-weighed average is more appropriate, since grid cell area decreases with latitude, see [preprocess](2.Preprocess/2.Preprocess.ipynb). "
   ]
  },
  {
   "cell_type": "code",
   "execution_count": null,
   "metadata": {},
   "outputs": [],
   "source": [
    "SEAS5_Siberia_events_zoomed = (\n",
    "    SEAS5_Siberia_weighted['t2m'].sel(\n",
    "        latitude=slice(70, 50),  \n",
    "        longitude=slice(65, 120)).  \n",
    "    mean(['longitude', 'latitude']))\n",
    "\n",
    "SEAS5_Siberia_events_zoomed_df = SEAS5_Siberia_events_zoomed.to_dataframe()"
   ]
  },
  {
   "cell_type": "code",
   "execution_count": null,
   "metadata": {},
   "outputs": [],
   "source": [
    "ERA5_Siberia_events_zoomed = (\n",
    "    ERA5_Siberia_weighted['t2m'].sel(  # Select 2 metre temperature\n",
    "        latitude=slice(70, 50),        # Select the latitudes\n",
    "        longitude=slice(65, 120)).    # Select the longitude\n",
    "    mean(['longitude', 'latitude']))\n",
    "\n",
    "ERA5_Siberia_events_zoomed_df = ERA5_Siberia_events_zoomed.to_dataframe()"
   ]
  },
  {
   "cell_type": "markdown",
   "metadata": {},
   "source": [
    "### Evaluate\n"
   ]
  },
  {
   "cell_type": "markdown",
   "metadata": {},
   "source": [
    "<div class=\"alert alert-info\">\n",
    "\n",
    "Note\n",
    "\n",
    "From here onward we use R and not python!\n",
    "    \n",
    "We switch to R since we believe R has a better functionality in extreme value statistics. \n",
    "\n",
    "</div>"
   ]
  },
  {
   "cell_type": "code",
   "execution_count": 1,
   "metadata": {
    "nbsphinx": "hidden"
   },
   "outputs": [
    {
     "data": {
      "text/html": [
       "'C:/Users/Timo/OneDrive - Loughborough University/GitHub/UNSEEN-open'"
      ],
      "text/latex": [
       "'C:/Users/Timo/OneDrive - Loughborough University/GitHub/UNSEEN-open'"
      ],
      "text/markdown": [
       "'C:/Users/Timo/OneDrive - Loughborough University/GitHub/UNSEEN-open'"
      ],
      "text/plain": [
       "[1] \"C:/Users/Timo/OneDrive - Loughborough University/GitHub/UNSEEN-open\""
      ]
     },
     "metadata": {},
     "output_type": "display_data"
    }
   ],
   "source": [
    "setwd('../..')\n",
    "getwd()\n",
    "SEAS5_Siberia_events_zoomed_df <- read.csv(\"Data/SEAS5_Siberia_events_zoomed.csv\", stringsAsFactors=FALSE)\n",
    "ERA5_Siberia_events_zoomed <- read.csv(\"Data/ERA5_Siberia_events_zoomed.csv\", stringsAsFactors=FALSE)"
   ]
  },
  {
   "cell_type": "markdown",
   "metadata": {},
   "source": [
    "Is the UNSEEN ensemble realistic? To answer this question, we perform three statistical tests: independence, model stability and model fidelity tests.  \n",
    "the UNSEEN ensemble through the [UNSEEN R package](https://github.com/timokelder/UNSEEN). "
   ]
  },
  {
   "cell_type": "code",
   "execution_count": 2,
   "metadata": {
    "scrolled": false
   },
   "outputs": [
    {
     "name": "stderr",
     "output_type": "stream",
     "text": [
      "Loading required package: UNSEEN\n",
      "\n"
     ]
    }
   ],
   "source": [
    "require(UNSEEN)"
   ]
  },
  {
   "cell_type": "markdown",
   "metadata": {},
   "source": [
    "We plot the timeseries of SEAS5 (UNSEEN) and ERA5 (OBS) for the the Siberian Heatwave. "
   ]
  },
  {
   "cell_type": "markdown",
   "metadata": {
    "nbsphinx": "hidden"
   },
   "source": [
    "You can call the documentation of the function with `?unseen_timeseries`"
   ]
  },
  {
   "cell_type": "code",
   "execution_count": 3,
   "metadata": {},
   "outputs": [
    {
     "name": "stderr",
     "output_type": "stream",
     "text": [
      "Warning message:\n",
      "\"Removed 2756 rows containing non-finite values (stat_boxplot).\"\n"
     ]
    },
    {
     "data": {
      "image/png": "[encoded data removed]",
      "text/plain": [
       "plot without title"
      ]
     },
     "metadata": {
      "image/png": {
       "height": 420,
       "width": 420
      }
     },
     "output_type": "display_data"
    }
   ],
   "source": [
    "unseen_timeseries(\n",
    "    ensemble = SEAS5_Siberia_events_zoomed_df,\n",
    "    obs = ERA5_Siberia_events_zoomed,\n",
    "    ensemble_yname = \"t2m\",\n",
    "    ensemble_xname = \"year\",\n",
    "    obs_yname = \"t2m\",\n",
    "    obs_xname = \"year\",\n",
    "    ylab = \"MAM Siberian temperature (C)\")"
   ]
  },
  {
   "cell_type": "markdown",
   "metadata": {},
   "source": [
    "The timeseries consist of **hindcast (years 1982-2016)** and **archived forecasts (years 2017-2020)**. The datasets are slightly different: the hindcasts contains 25 members whereas operational forecasts contain 51 members, the native resolution is different and the dataset from which the forecasts are initialized is different. \n",
    "\n",
    "**For the evaluation of the UNSEEN ensemble we want to only use the SEAS5 hindcasts for a consistent dataset**. Note, 2017 is not used in either the hindcast nor the operational dataset, since it contains forecasts both initialized in 2016 (hindcast) and 2017 (forecast), see [retrieve](../1.Download/1.Retrieve.ipynb).\n",
    "We split SEAS5 into hindcast and operational forecasts:"
   ]
  },
  {
   "cell_type": "code",
   "execution_count": 5,
   "metadata": {},
   "outputs": [],
   "source": [
    "SEAS5_Siberia_events_zoomed_hindcast <- SEAS5_Siberia_events_zoomed_df[\n",
    "    SEAS5_Siberia_events_zoomed_df$year < 2017 &\n",
    "    SEAS5_Siberia_events_zoomed_df$number < 25,]\n",
    "\n",
    "SEAS5_Siberia_events_zoomed_forecasts <- SEAS5_Siberia_events_zoomed_df[\n",
    "    SEAS5_Siberia_events_zoomed_df$year > 2017,]\n"
   ]
  },
  {
   "cell_type": "markdown",
   "metadata": {},
   "source": [
    "And we select the same years for ERA5. "
   ]
  },
  {
   "cell_type": "code",
   "execution_count": 7,
   "metadata": {},
   "outputs": [],
   "source": [
    "ERA5_Siberia_events_zoomed_hindcast <- ERA5_Siberia_events_zoomed[\n",
    "    ERA5_Siberia_events_zoomed$year < 2017 &\n",
    "    ERA5_Siberia_events_zoomed$year > 1981,]"
   ]
  },
  {
   "cell_type": "markdown",
   "metadata": {},
   "source": [
    "Which results in the following timeseries:"
   ]
  },
  {
   "cell_type": "code",
   "execution_count": 8,
   "metadata": {
    "scrolled": true
   },
   "outputs": [
    {
     "data": {
      "image/png": "[encoded data removed]",
      "text/plain": [
       "plot without title"
      ]
     },
     "metadata": {
      "image/png": {
       "height": 420,
       "width": 420
      }
     },
     "output_type": "display_data"
    }
   ],
   "source": [
    "unseen_timeseries(\n",
    "    ensemble = SEAS5_Siberia_events_zoomed_hindcast,\n",
    "    obs = ERA5_Siberia_events_zoomed_hindcast,\n",
    "    ensemble_yname = \"t2m\",\n",
    "    ensemble_xname = \"year\",\n",
    "    obs_yname = \"t2m\",\n",
    "    obs_xname = \"year\",\n",
    "    ylab = \"MAM Siberian temperature (C)\")\n",
    "\n",
    " "
   ]
  },
  {
   "cell_type": "markdown",
   "metadata": {},
   "source": [
    "With the hindcast dataset we evaluate the independence, stability and fidelity. See also [evaluation](3.Evaluate/3.Evaluate.ipynb). Here, we plot the results for the fidelity:"
   ]
  },
  {
   "cell_type": "code",
   "execution_count": 9,
   "metadata": {
    "scrolled": true
   },
   "outputs": [
    {
     "data": {
      "image/png": "[encoded data removed]",
      "text/plain": [
       "plot without title"
      ]
     },
     "metadata": {
      "image/png": {
       "height": 420,
       "width": 420
      }
     },
     "output_type": "display_data"
    }
   ],
   "source": [
    "fidelity_test(\n",
    "    obs = ERA5_Siberia_events_zoomed_hindcast$t2m,\n",
    "    ensemble = SEAS5_Siberia_events_zoomed_hindcast$t2m,\n",
    "    units = 'C',\n",
    "    biascor = FALSE\n",
    ")"
   ]
  },
  {
   "cell_type": "markdown",
   "metadata": {},
   "source": [
    "It shows that the mean of the ensemble is too low compared to the observed. \n",
    "\n",
    "Lets apply a additive biascor:\n"
   ]
  },
  {
   "cell_type": "code",
   "execution_count": 10,
   "metadata": {},
   "outputs": [
    {
     "data": {
      "image/png": "[encoded data removed]",
      "text/plain": [
       "plot without title"
      ]
     },
     "metadata": {
      "image/png": {
       "height": 420,
       "width": 420
      }
     },
     "output_type": "display_data"
    }
   ],
   "source": [
    "#Lets apply a additive biascor\n",
    "obs = ERA5_Siberia_events_zoomed_hindcast$t2m\n",
    "ensemble = SEAS5_Siberia_events_zoomed_hindcast$t2m\n",
    "ensemble_biascor = ensemble + (mean(obs) - mean(ensemble))\n",
    "\n",
    "fidelity_test(\n",
    "    obs = obs,\n",
    "    ensemble = ensemble_biascor,\n",
    "    units = 'C',\n",
    "    biascor = FALSE\n",
    ")"
   ]
  },
  {
   "cell_type": "markdown",
   "metadata": {},
   "source": [
    "## UK Precipitation\n",
    "February average precipitation was the highest on record in the UK: with what frequency of occurrence can February extreme precipitation events such as the 2020 event be expected?\n"
   ]
  },
  {
   "cell_type": "code",
   "execution_count": 6,
   "metadata": {},
   "outputs": [],
   "source": [
    "retrieve.retrieve_ERA5(variables='total_precipitation',\n",
    "                       target_months=[2],\n",
    "                       area=[60, -11, 50, 2],\n",
    "                       folder='../UK_example/ERA5/')"
   ]
  },
  {
   "cell_type": "code",
   "execution_count": 4,
   "metadata": {},
   "outputs": [],
   "source": [
    "retrieve.retrieve_SEAS5(variables='total_precipitation',\n",
    "                        target_months=[2],\n",
    "                        area=[60, -11, 50, 2],\n",
    "                        folder='../UK_example/SEAS5/')"
   ]
  },
  {
   "cell_type": "code",
   "execution_count": 10,
   "metadata": {},
   "outputs": [
    {
     "name": "stdout",
     "output_type": "stream",
     "text": [
      "Lead time: 1\n",
      "12\n",
      "11\n",
      "10\n",
      "9\n"
     ]
    },
    {
     "data": {
      "text/html": [
       "<div><svg style=\"position: absolute; width: 0; height: 0; overflow: hidden\">\n",
       "<defs>\n",
       "<symbol id=\"icon-database\" viewBox=\"0 0 32 32\">\n",
       "<title>Show/Hide data repr</title>\n",
       "<path d=\"M16 0c-8.837 0-16 2.239-16 5v4c0 2.761 7.163 5 16 5s16-2.239 16-5v-4c0-2.761-7.163-5-16-5z\"></path>\n",
       "<path d=\"M16 17c-8.837 0-16-2.239-16-5v6c0 2.761 7.163 5 16 5s16-2.239 16-5v-6c0 2.761-7.163 5-16 5z\"></path>\n",
       "<path d=\"M16 26c-8.837 0-16-2.239-16-5v6c0 2.761 7.163 5 16 5s16-2.239 16-5v-6c0 2.761-7.163 5-16 5z\"></path>\n",
       "</symbol>\n",
       "<symbol id=\"icon-file-text2\" viewBox=\"0 0 32 32\">\n",
       "<title>Show/Hide attributes</title>\n",
       "<path d=\"M28.681 7.159c-0.694-0.947-1.662-2.053-2.724-3.116s-2.169-2.030-3.116-2.724c-1.612-1.182-2.393-1.319-2.841-1.319h-15.5c-1.378 0-2.5 1.121-2.5 2.5v27c0 1.378 1.122 2.5 2.5 2.5h23c1.378 0 2.5-1.122 2.5-2.5v-19.5c0-0.448-0.137-1.23-1.319-2.841zM24.543 5.457c0.959 0.959 1.712 1.825 2.268 2.543h-4.811v-4.811c0.718 0.556 1.584 1.309 2.543 2.268zM28 29.5c0 0.271-0.229 0.5-0.5 0.5h-23c-0.271 0-0.5-0.229-0.5-0.5v-27c0-0.271 0.229-0.5 0.5-0.5 0 0 15.499-0 15.5 0v7c0 0.552 0.448 1 1 1h7v19.5z\"></path>\n",
       "<path d=\"M23 26h-14c-0.552 0-1-0.448-1-1s0.448-1 1-1h14c0.552 0 1 0.448 1 1s-0.448 1-1 1z\"></path>\n",
       "<path d=\"M23 22h-14c-0.552 0-1-0.448-1-1s0.448-1 1-1h14c0.552 0 1 0.448 1 1s-0.448 1-1 1z\"></path>\n",
       "<path d=\"M23 18h-14c-0.552 0-1-0.448-1-1s0.448-1 1-1h14c0.552 0 1 0.448 1 1s-0.448 1-1 1z\"></path>\n",
       "</symbol>\n",
       "</defs>\n",
       "</svg>\n",
       "<style>/* CSS stylesheet for displaying xarray objects in jupyterlab.\n",
       " *\n",
       " */\n",
       "\n",
       ":root {\n",
       "  --xr-font-color0: var(--jp-content-font-color0, rgba(0, 0, 0, 1));\n",
       "  --xr-font-color2: var(--jp-content-font-color2, rgba(0, 0, 0, 0.54));\n",
       "  --xr-font-color3: var(--jp-content-font-color3, rgba(0, 0, 0, 0.38));\n",
       "  --xr-border-color: var(--jp-border-color2, #e0e0e0);\n",
       "  --xr-disabled-color: var(--jp-layout-color3, #bdbdbd);\n",
       "  --xr-background-color: var(--jp-layout-color0, white);\n",
       "  --xr-background-color-row-even: var(--jp-layout-color1, white);\n",
       "  --xr-background-color-row-odd: var(--jp-layout-color2, #eeeeee);\n",
       "}\n",
       "\n",
       ".xr-wrap {\n",
       "  min-width: 300px;\n",
       "  max-width: 700px;\n",
       "}\n",
       "\n",
       ".xr-header {\n",
       "  padding-top: 6px;\n",
       "  padding-bottom: 6px;\n",
       "  margin-bottom: 4px;\n",
       "  border-bottom: solid 1px var(--xr-border-color);\n",
       "}\n",
       "\n",
       ".xr-header > div,\n",
       ".xr-header > ul {\n",
       "  display: inline;\n",
       "  margin-top: 0;\n",
       "  margin-bottom: 0;\n",
       "}\n",
       "\n",
       ".xr-obj-type,\n",
       ".xr-array-name {\n",
       "  margin-left: 2px;\n",
       "  margin-right: 10px;\n",
       "}\n",
       "\n",
       ".xr-obj-type {\n",
       "  color: var(--xr-font-color2);\n",
       "}\n",
       "\n",
       ".xr-sections {\n",
       "  padding-left: 0 !important;\n",
       "  display: grid;\n",
       "  grid-template-columns: 150px auto auto 1fr 20px 20px;\n",
       "}\n",
       "\n",
       ".xr-section-item {\n",
       "  display: contents;\n",
       "}\n",
       "\n",
       ".xr-section-item input {\n",
       "  display: none;\n",
       "}\n",
       "\n",
       ".xr-section-item input + label {\n",
       "  color: var(--xr-disabled-color);\n",
       "}\n",
       "\n",
       ".xr-section-item input:enabled + label {\n",
       "  cursor: pointer;\n",
       "  color: var(--xr-font-color2);\n",
       "}\n",
       "\n",
       ".xr-section-item input:enabled + label:hover {\n",
       "  color: var(--xr-font-color0);\n",
       "}\n",
       "\n",
       ".xr-section-summary {\n",
       "  grid-column: 1;\n",
       "  color: var(--xr-font-color2);\n",
       "  font-weight: 500;\n",
       "}\n",
       "\n",
       ".xr-section-summary > span {\n",
       "  display: inline-block;\n",
       "  padding-left: 0.5em;\n",
       "}\n",
       "\n",
       ".xr-section-summary-in:disabled + label {\n",
       "  color: var(--xr-font-color2);\n",
       "}\n",
       "\n",
       ".xr-section-summary-in + label:before {\n",
       "  display: inline-block;\n",
       "  content: '►';\n",
       "  font-size: 11px;\n",
       "  width: 15px;\n",
       "  text-align: center;\n",
       "}\n",
       "\n",
       ".xr-section-summary-in:disabled + label:before {\n",
       "  color: var(--xr-disabled-color);\n",
       "}\n",
       "\n",
       ".xr-section-summary-in:checked + label:before {\n",
       "  content: '▼';\n",
       "}\n",
       "\n",
       ".xr-section-summary-in:checked + label > span {\n",
       "  display: none;\n",
       "}\n",
       "\n",
       ".xr-section-summary,\n",
       ".xr-section-inline-details {\n",
       "  padding-top: 4px;\n",
       "  padding-bottom: 4px;\n",
       "}\n",
       "\n",
       ".xr-section-inline-details {\n",
       "  grid-column: 2 / -1;\n",
       "}\n",
       "\n",
       ".xr-section-details {\n",
       "  display: none;\n",
       "  grid-column: 1 / -1;\n",
       "  margin-bottom: 5px;\n",
       "}\n",
       "\n",
       ".xr-section-summary-in:checked ~ .xr-section-details {\n",
       "  display: contents;\n",
       "}\n",
       "\n",
       ".xr-array-wrap {\n",
       "  grid-column: 1 / -1;\n",
       "  display: grid;\n",
       "  grid-template-columns: 20px auto;\n",
       "}\n",
       "\n",
       ".xr-array-wrap > label {\n",
       "  grid-column: 1;\n",
       "  vertical-align: top;\n",
       "}\n",
       "\n",
       ".xr-preview {\n",
       "  color: var(--xr-font-color3);\n",
       "}\n",
       "\n",
       ".xr-array-preview,\n",
       ".xr-array-data {\n",
       "  padding: 0 5px !important;\n",
       "  grid-column: 2;\n",
       "}\n",
       "\n",
       ".xr-array-data,\n",
       ".xr-array-in:checked ~ .xr-array-preview {\n",
       "  display: none;\n",
       "}\n",
       "\n",
       ".xr-array-in:checked ~ .xr-array-data,\n",
       ".xr-array-preview {\n",
       "  display: inline-block;\n",
       "}\n",
       "\n",
       ".xr-dim-list {\n",
       "  display: inline-block !important;\n",
       "  list-style: none;\n",
       "  padding: 0 !important;\n",
       "  margin: 0;\n",
       "}\n",
       "\n",
       ".xr-dim-list li {\n",
       "  display: inline-block;\n",
       "  padding: 0;\n",
       "  margin: 0;\n",
       "}\n",
       "\n",
       ".xr-dim-list:before {\n",
       "  content: '(';\n",
       "}\n",
       "\n",
       ".xr-dim-list:after {\n",
       "  content: ')';\n",
       "}\n",
       "\n",
       ".xr-dim-list li:not(:last-child):after {\n",
       "  content: ',';\n",
       "  padding-right: 5px;\n",
       "}\n",
       "\n",
       ".xr-has-index {\n",
       "  font-weight: bold;\n",
       "}\n",
       "\n",
       ".xr-var-list,\n",
       ".xr-var-item {\n",
       "  display: contents;\n",
       "}\n",
       "\n",
       ".xr-var-item > div,\n",
       ".xr-var-item label,\n",
       ".xr-var-item > .xr-var-name span {\n",
       "  background-color: var(--xr-background-color-row-even);\n",
       "  margin-bottom: 0;\n",
       "}\n",
       "\n",
       ".xr-var-item > .xr-var-name:hover span {\n",
       "  padding-right: 5px;\n",
       "}\n",
       "\n",
       ".xr-var-list > li:nth-child(odd) > div,\n",
       ".xr-var-list > li:nth-child(odd) > label,\n",
       ".xr-var-list > li:nth-child(odd) > .xr-var-name span {\n",
       "  background-color: var(--xr-background-color-row-odd);\n",
       "}\n",
       "\n",
       ".xr-var-name {\n",
       "  grid-column: 1;\n",
       "}\n",
       "\n",
       ".xr-var-dims {\n",
       "  grid-column: 2;\n",
       "}\n",
       "\n",
       ".xr-var-dtype {\n",
       "  grid-column: 3;\n",
       "  text-align: right;\n",
       "  color: var(--xr-font-color2);\n",
       "}\n",
       "\n",
       ".xr-var-preview {\n",
       "  grid-column: 4;\n",
       "}\n",
       "\n",
       ".xr-var-name,\n",
       ".xr-var-dims,\n",
       ".xr-var-dtype,\n",
       ".xr-preview,\n",
       ".xr-attrs dt {\n",
       "  white-space: nowrap;\n",
       "  overflow: hidden;\n",
       "  text-overflow: ellipsis;\n",
       "  padding-right: 10px;\n",
       "}\n",
       "\n",
       ".xr-var-name:hover,\n",
       ".xr-var-dims:hover,\n",
       ".xr-var-dtype:hover,\n",
       ".xr-attrs dt:hover {\n",
       "  overflow: visible;\n",
       "  width: auto;\n",
       "  z-index: 1;\n",
       "}\n",
       "\n",
       ".xr-var-attrs,\n",
       ".xr-var-data {\n",
       "  display: none;\n",
       "  background-color: var(--xr-background-color) !important;\n",
       "  padding-bottom: 5px !important;\n",
       "}\n",
       "\n",
       ".xr-var-attrs-in:checked ~ .xr-var-attrs,\n",
       ".xr-var-data-in:checked ~ .xr-var-data {\n",
       "  display: block;\n",
       "}\n",
       "\n",
       ".xr-var-data > table {\n",
       "  float: right;\n",
       "}\n",
       "\n",
       ".xr-var-name span,\n",
       ".xr-var-data,\n",
       ".xr-attrs {\n",
       "  padding-left: 25px !important;\n",
       "}\n",
       "\n",
       ".xr-attrs,\n",
       ".xr-var-attrs,\n",
       ".xr-var-data {\n",
       "  grid-column: 1 / -1;\n",
       "}\n",
       "\n",
       "dl.xr-attrs {\n",
       "  padding: 0;\n",
       "  margin: 0;\n",
       "  display: grid;\n",
       "  grid-template-columns: 125px auto;\n",
       "}\n",
       "\n",
       ".xr-attrs dt, dd {\n",
       "  padding: 0;\n",
       "  margin: 0;\n",
       "  float: left;\n",
       "  padding-right: 10px;\n",
       "  width: auto;\n",
       "}\n",
       "\n",
       ".xr-attrs dt {\n",
       "  font-weight: normal;\n",
       "  grid-column: 1;\n",
       "}\n",
       "\n",
       ".xr-attrs dt:hover span {\n",
       "  display: inline-block;\n",
       "  background: var(--xr-background-color);\n",
       "  padding-right: 10px;\n",
       "}\n",
       "\n",
       ".xr-attrs dd {\n",
       "  grid-column: 2;\n",
       "  white-space: pre-wrap;\n",
       "  word-break: break-all;\n",
       "}\n",
       "\n",
       ".xr-icon-database,\n",
       ".xr-icon-file-text2 {\n",
       "  display: inline-block;\n",
       "  vertical-align: middle;\n",
       "  width: 1em;\n",
       "  height: 1.5em !important;\n",
       "  stroke-width: 0;\n",
       "  stroke: currentColor;\n",
       "  fill: currentColor;\n",
       "}\n",
       "</style><div class='xr-wrap'><div class='xr-header'><div class='xr-obj-type'>xarray.Dataset</div></div><ul class='xr-sections'><li class='xr-section-item'><input id='section-4350ed3a-fa46-4df9-8f33-2222db436fd2' class='xr-section-summary-in' type='checkbox' disabled ><label for='section-4350ed3a-fa46-4df9-8f33-2222db436fd2' class='xr-section-summary'  title='Expand/collapse section'>Dimensions:</label><div class='xr-section-inline-details'><ul class='xr-dim-list'><li><span class='xr-has-index'>latitude</span>: 11</li><li><span class='xr-has-index'>leadtime</span>: 5</li><li><span class='xr-has-index'>longitude</span>: 14</li><li><span class='xr-has-index'>number</span>: 25</li><li><span class='xr-has-index'>time</span>: 35</li></ul></div><div class='xr-section-details'></div></li><li class='xr-section-item'><input id='section-d84ac60a-791a-4d2f-8de6-f6762b1367b9' class='xr-section-summary-in' type='checkbox'  checked><label for='section-d84ac60a-791a-4d2f-8de6-f6762b1367b9' class='xr-section-summary' >Coordinates: <span>(5)</span></label><div class='xr-section-inline-details'></div><div class='xr-section-details'><ul class='xr-var-list'><li class='xr-var-item'><div class='xr-var-name'><span class='xr-has-index'>longitude</span></div><div class='xr-var-dims'>(longitude)</div><div class='xr-var-dtype'>float32</div><div class='xr-var-preview xr-preview'>-11.0 -10.0 -9.0 ... 0.0 1.0 2.0</div><input id='attrs-cd186290-70c4-4f63-b999-c6effed52b9b' class='xr-var-attrs-in' type='checkbox' ><label for='attrs-cd186290-70c4-4f63-b999-c6effed52b9b' title='Show/Hide attributes'><svg class='icon xr-icon-file-text2'><use xlink:href='#icon-file-text2'></use></svg></label><input id='data-a00d9e28-cf73-4a11-bace-bcf619479419' class='xr-var-data-in' type='checkbox'><label for='data-a00d9e28-cf73-4a11-bace-bcf619479419' title='Show/Hide data repr'><svg class='icon xr-icon-database'><use xlink:href='#icon-database'></use></svg></label><div class='xr-var-attrs'><dl class='xr-attrs'><dt><span>units :</span></dt><dd>degrees_east</dd><dt><span>long_name :</span></dt><dd>longitude</dd></dl></div><pre class='xr-var-data'>array([-11., -10.,  -9.,  -8.,  -7.,  -6.,  -5.,  -4.,  -3.,  -2.,  -1.,   0.,\n",
       "         1.,   2.], dtype=float32)</pre></li><li class='xr-var-item'><div class='xr-var-name'><span class='xr-has-index'>number</span></div><div class='xr-var-dims'>(number)</div><div class='xr-var-dtype'>int32</div><div class='xr-var-preview xr-preview'>0 1 2 3 4 5 6 ... 19 20 21 22 23 24</div><input id='attrs-70413a2b-19b8-478b-a5eb-655e2b70f8b1' class='xr-var-attrs-in' type='checkbox' ><label for='attrs-70413a2b-19b8-478b-a5eb-655e2b70f8b1' title='Show/Hide attributes'><svg class='icon xr-icon-file-text2'><use xlink:href='#icon-file-text2'></use></svg></label><input id='data-08c2ef62-52a2-4b26-aa80-3d976fc13660' class='xr-var-data-in' type='checkbox'><label for='data-08c2ef62-52a2-4b26-aa80-3d976fc13660' title='Show/Hide data repr'><svg class='icon xr-icon-database'><use xlink:href='#icon-database'></use></svg></label><div class='xr-var-attrs'><dl class='xr-attrs'><dt><span>long_name :</span></dt><dd>ensemble_member</dd></dl></div><pre class='xr-var-data'>array([ 0,  1,  2,  3,  4,  5,  6,  7,  8,  9, 10, 11, 12, 13, 14, 15, 16, 17,\n",
       "       18, 19, 20, 21, 22, 23, 24], dtype=int32)</pre></li><li class='xr-var-item'><div class='xr-var-name'><span class='xr-has-index'>latitude</span></div><div class='xr-var-dims'>(latitude)</div><div class='xr-var-dtype'>float32</div><div class='xr-var-preview xr-preview'>60.0 59.0 58.0 ... 52.0 51.0 50.0</div><input id='attrs-063746c1-66d1-4cda-b4f9-d988be06e807' class='xr-var-attrs-in' type='checkbox' ><label for='attrs-063746c1-66d1-4cda-b4f9-d988be06e807' title='Show/Hide attributes'><svg class='icon xr-icon-file-text2'><use xlink:href='#icon-file-text2'></use></svg></label><input id='data-b75454cc-0b53-47dd-88f3-67188a9619a4' class='xr-var-data-in' type='checkbox'><label for='data-b75454cc-0b53-47dd-88f3-67188a9619a4' title='Show/Hide data repr'><svg class='icon xr-icon-database'><use xlink:href='#icon-database'></use></svg></label><div class='xr-var-attrs'><dl class='xr-attrs'><dt><span>units :</span></dt><dd>degrees_north</dd><dt><span>long_name :</span></dt><dd>latitude</dd></dl></div><pre class='xr-var-data'>array([60., 59., 58., 57., 56., 55., 54., 53., 52., 51., 50.], dtype=float32)</pre></li><li class='xr-var-item'><div class='xr-var-name'><span class='xr-has-index'>time</span></div><div class='xr-var-dims'>(time)</div><div class='xr-var-dtype'>datetime64[ns]</div><div class='xr-var-preview xr-preview'>1982-02-01 ... 2016-02-01</div><input id='attrs-3b7a0497-365e-488d-9dca-947413bc762f' class='xr-var-attrs-in' type='checkbox' ><label for='attrs-3b7a0497-365e-488d-9dca-947413bc762f' title='Show/Hide attributes'><svg class='icon xr-icon-file-text2'><use xlink:href='#icon-file-text2'></use></svg></label><input id='data-ae5799b2-ac97-47a1-852d-b385bee1b7f8' class='xr-var-data-in' type='checkbox'><label for='data-ae5799b2-ac97-47a1-852d-b385bee1b7f8' title='Show/Hide data repr'><svg class='icon xr-icon-database'><use xlink:href='#icon-database'></use></svg></label><div class='xr-var-attrs'><dl class='xr-attrs'><dt><span>long_name :</span></dt><dd>time</dd></dl></div><pre class='xr-var-data'>array([&#x27;1982-02-01T00:00:00.000000000&#x27;, &#x27;1983-02-01T00:00:00.000000000&#x27;,\n",
       "       &#x27;1984-02-01T00:00:00.000000000&#x27;, &#x27;1985-02-01T00:00:00.000000000&#x27;,\n",
       "       &#x27;1986-02-01T00:00:00.000000000&#x27;, &#x27;1987-02-01T00:00:00.000000000&#x27;,\n",
       "       &#x27;1988-02-01T00:00:00.000000000&#x27;, &#x27;1989-02-01T00:00:00.000000000&#x27;,\n",
       "       &#x27;1990-02-01T00:00:00.000000000&#x27;, &#x27;1991-02-01T00:00:00.000000000&#x27;,\n",
       "       &#x27;1992-02-01T00:00:00.000000000&#x27;, &#x27;1993-02-01T00:00:00.000000000&#x27;,\n",
       "       &#x27;1994-02-01T00:00:00.000000000&#x27;, &#x27;1995-02-01T00:00:00.000000000&#x27;,\n",
       "       &#x27;1996-02-01T00:00:00.000000000&#x27;, &#x27;1997-02-01T00:00:00.000000000&#x27;,\n",
       "       &#x27;1998-02-01T00:00:00.000000000&#x27;, &#x27;1999-02-01T00:00:00.000000000&#x27;,\n",
       "       &#x27;2000-02-01T00:00:00.000000000&#x27;, &#x27;2001-02-01T00:00:00.000000000&#x27;,\n",
       "       &#x27;2002-02-01T00:00:00.000000000&#x27;, &#x27;2003-02-01T00:00:00.000000000&#x27;,\n",
       "       &#x27;2004-02-01T00:00:00.000000000&#x27;, &#x27;2005-02-01T00:00:00.000000000&#x27;,\n",
       "       &#x27;2006-02-01T00:00:00.000000000&#x27;, &#x27;2007-02-01T00:00:00.000000000&#x27;,\n",
       "       &#x27;2008-02-01T00:00:00.000000000&#x27;, &#x27;2009-02-01T00:00:00.000000000&#x27;,\n",
       "       &#x27;2010-02-01T00:00:00.000000000&#x27;, &#x27;2011-02-01T00:00:00.000000000&#x27;,\n",
       "       &#x27;2012-02-01T00:00:00.000000000&#x27;, &#x27;2013-02-01T00:00:00.000000000&#x27;,\n",
       "       &#x27;2014-02-01T00:00:00.000000000&#x27;, &#x27;2015-02-01T00:00:00.000000000&#x27;,\n",
       "       &#x27;2016-02-01T00:00:00.000000000&#x27;], dtype=&#x27;datetime64[ns]&#x27;)</pre></li><li class='xr-var-item'><div class='xr-var-name'><span class='xr-has-index'>leadtime</span></div><div class='xr-var-dims'>(leadtime)</div><div class='xr-var-dtype'>int64</div><div class='xr-var-preview xr-preview'>2 3 4 5 6</div><input id='attrs-df490cca-3c5b-49b8-84c4-d56f074b4205' class='xr-var-attrs-in' type='checkbox' disabled><label for='attrs-df490cca-3c5b-49b8-84c4-d56f074b4205' title='Show/Hide attributes'><svg class='icon xr-icon-file-text2'><use xlink:href='#icon-file-text2'></use></svg></label><input id='data-5166b6f2-cd6b-4849-87d5-9f21916ad9be' class='xr-var-data-in' type='checkbox'><label for='data-5166b6f2-cd6b-4849-87d5-9f21916ad9be' title='Show/Hide data repr'><svg class='icon xr-icon-database'><use xlink:href='#icon-database'></use></svg></label><div class='xr-var-attrs'><dl class='xr-attrs'></dl></div><pre class='xr-var-data'>array([2, 3, 4, 5, 6])</pre></li></ul></div></li><li class='xr-section-item'><input id='section-602f3b58-a06e-4bf3-a13b-d1fd6efb41c6' class='xr-section-summary-in' type='checkbox'  checked><label for='section-602f3b58-a06e-4bf3-a13b-d1fd6efb41c6' class='xr-section-summary' >Data variables: <span>(1)</span></label><div class='xr-section-inline-details'></div><div class='xr-section-details'><ul class='xr-var-list'><li class='xr-var-item'><div class='xr-var-name'><span>tprate</span></div><div class='xr-var-dims'>(time, number, latitude, longitude)</div><div class='xr-var-dtype'>float32</div><div class='xr-var-preview xr-preview'>dask.array&lt;chunksize=(1, 25, 11, 14), meta=np.ndarray&gt;</div><input id='attrs-12f5d8f6-7aef-4ac2-808a-9e4f8cae933b' class='xr-var-attrs-in' type='checkbox' ><label for='attrs-12f5d8f6-7aef-4ac2-808a-9e4f8cae933b' title='Show/Hide attributes'><svg class='icon xr-icon-file-text2'><use xlink:href='#icon-file-text2'></use></svg></label><input id='data-c8699fae-e445-4a8f-bc98-869366ae06a0' class='xr-var-data-in' type='checkbox'><label for='data-c8699fae-e445-4a8f-bc98-869366ae06a0' title='Show/Hide data repr'><svg class='icon xr-icon-database'><use xlink:href='#icon-database'></use></svg></label><div class='xr-var-attrs'><dl class='xr-attrs'><dt><span>units :</span></dt><dd>m s**-1</dd><dt><span>long_name :</span></dt><dd>Mean total precipitation rate</dd></dl></div><pre class='xr-var-data'><table>\n",
       "<tr>\n",
       "<td>\n",
       "<table>\n",
       "  <thead>\n",
       "    <tr><td> </td><th> Array </th><th> Chunk </th></tr>\n",
       "  </thead>\n",
       "  <tbody>\n",
       "    <tr><th> Bytes </th><td> 539.00 kB </td> <td> 15.40 kB </td></tr>\n",
       "    <tr><th> Shape </th><td> (35, 25, 11, 14) </td> <td> (1, 25, 11, 14) </td></tr>\n",
       "    <tr><th> Count </th><td> 105 Tasks </td><td> 35 Chunks </td></tr>\n",
       "    <tr><th> Type </th><td> float32 </td><td> numpy.ndarray </td></tr>\n",
       "  </tbody>\n",
       "</table>\n",
       "</td>\n",
       "<td>\n",
       "<svg width=\"528\" height=\"144\" style=\"stroke:rgb(0,0,0);stroke-width:1\" >\n",
       "\n",
       "  <!-- Horizontal lines -->\n",
       "  <line x1=\"0\" y1=\"0\" x2=\"120\" y2=\"0\" style=\"stroke-width:2\" />\n",
       "  <line x1=\"0\" y1=\"31\" x2=\"120\" y2=\"31\" style=\"stroke-width:2\" />\n",
       "\n",
       "  <!-- Vertical lines -->\n",
       "  <line x1=\"0\" y1=\"0\" x2=\"0\" y2=\"31\" style=\"stroke-width:2\" />\n",
       "  <line x1=\"3\" y1=\"0\" x2=\"3\" y2=\"31\" />\n",
       "  <line x1=\"6\" y1=\"0\" x2=\"6\" y2=\"31\" />\n",
       "  <line x1=\"10\" y1=\"0\" x2=\"10\" y2=\"31\" />\n",
       "  <line x1=\"13\" y1=\"0\" x2=\"13\" y2=\"31\" />\n",
       "  <line x1=\"17\" y1=\"0\" x2=\"17\" y2=\"31\" />\n",
       "  <line x1=\"20\" y1=\"0\" x2=\"20\" y2=\"31\" />\n",
       "  <line x1=\"24\" y1=\"0\" x2=\"24\" y2=\"31\" />\n",
       "  <line x1=\"27\" y1=\"0\" x2=\"27\" y2=\"31\" />\n",
       "  <line x1=\"30\" y1=\"0\" x2=\"30\" y2=\"31\" />\n",
       "  <line x1=\"34\" y1=\"0\" x2=\"34\" y2=\"31\" />\n",
       "  <line x1=\"37\" y1=\"0\" x2=\"37\" y2=\"31\" />\n",
       "  <line x1=\"41\" y1=\"0\" x2=\"41\" y2=\"31\" />\n",
       "  <line x1=\"44\" y1=\"0\" x2=\"44\" y2=\"31\" />\n",
       "  <line x1=\"48\" y1=\"0\" x2=\"48\" y2=\"31\" />\n",
       "  <line x1=\"51\" y1=\"0\" x2=\"51\" y2=\"31\" />\n",
       "  <line x1=\"54\" y1=\"0\" x2=\"54\" y2=\"31\" />\n",
       "  <line x1=\"58\" y1=\"0\" x2=\"58\" y2=\"31\" />\n",
       "  <line x1=\"61\" y1=\"0\" x2=\"61\" y2=\"31\" />\n",
       "  <line x1=\"65\" y1=\"0\" x2=\"65\" y2=\"31\" />\n",
       "  <line x1=\"68\" y1=\"0\" x2=\"68\" y2=\"31\" />\n",
       "  <line x1=\"72\" y1=\"0\" x2=\"72\" y2=\"31\" />\n",
       "  <line x1=\"75\" y1=\"0\" x2=\"75\" y2=\"31\" />\n",
       "  <line x1=\"78\" y1=\"0\" x2=\"78\" y2=\"31\" />\n",
       "  <line x1=\"82\" y1=\"0\" x2=\"82\" y2=\"31\" />\n",
       "  <line x1=\"85\" y1=\"0\" x2=\"85\" y2=\"31\" />\n",
       "  <line x1=\"89\" y1=\"0\" x2=\"89\" y2=\"31\" />\n",
       "  <line x1=\"92\" y1=\"0\" x2=\"92\" y2=\"31\" />\n",
       "  <line x1=\"96\" y1=\"0\" x2=\"96\" y2=\"31\" />\n",
       "  <line x1=\"99\" y1=\"0\" x2=\"99\" y2=\"31\" />\n",
       "  <line x1=\"102\" y1=\"0\" x2=\"102\" y2=\"31\" />\n",
       "  <line x1=\"106\" y1=\"0\" x2=\"106\" y2=\"31\" />\n",
       "  <line x1=\"109\" y1=\"0\" x2=\"109\" y2=\"31\" />\n",
       "  <line x1=\"113\" y1=\"0\" x2=\"113\" y2=\"31\" />\n",
       "  <line x1=\"116\" y1=\"0\" x2=\"116\" y2=\"31\" />\n",
       "  <line x1=\"120\" y1=\"0\" x2=\"120\" y2=\"31\" style=\"stroke-width:2\" />\n",
       "\n",
       "  <!-- Colored Rectangle -->\n",
       "  <polygon points=\"0.000000,0.000000 120.000000,0.000000 120.000000,31.099183 0.000000,31.099183\" style=\"fill:#ECB172A0;stroke-width:0\"/>\n",
       "\n",
       "  <!-- Text -->\n",
       "  <text x=\"60.000000\" y=\"51.099183\" font-size=\"1.0rem\" font-weight=\"100\" text-anchor=\"middle\" >35</text>\n",
       "  <text x=\"140.000000\" y=\"15.549592\" font-size=\"1.0rem\" font-weight=\"100\" text-anchor=\"middle\" transform=\"rotate(0,140.000000,15.549592)\">1</text>\n",
       "\n",
       "\n",
       "  <!-- Horizontal lines -->\n",
       "  <line x1=\"190\" y1=\"0\" x2=\"240\" y2=\"50\" style=\"stroke-width:2\" />\n",
       "  <line x1=\"190\" y1=\"43\" x2=\"240\" y2=\"94\" style=\"stroke-width:2\" />\n",
       "\n",
       "  <!-- Vertical lines -->\n",
       "  <line x1=\"190\" y1=\"0\" x2=\"190\" y2=\"43\" style=\"stroke-width:2\" />\n",
       "  <line x1=\"240\" y1=\"50\" x2=\"240\" y2=\"94\" style=\"stroke-width:2\" />\n",
       "\n",
       "  <!-- Colored Rectangle -->\n",
       "  <polygon points=\"190.000000,0.000000 240.420168,50.420168 240.420168,94.118429 190.000000,43.698261\" style=\"fill:#ECB172A0;stroke-width:0\"/>\n",
       "\n",
       "  <!-- Horizontal lines -->\n",
       "  <line x1=\"190\" y1=\"0\" x2=\"238\" y2=\"0\" style=\"stroke-width:2\" />\n",
       "  <line x1=\"240\" y1=\"50\" x2=\"288\" y2=\"50\" style=\"stroke-width:2\" />\n",
       "\n",
       "  <!-- Vertical lines -->\n",
       "  <line x1=\"190\" y1=\"0\" x2=\"240\" y2=\"50\" style=\"stroke-width:2\" />\n",
       "  <line x1=\"238\" y1=\"0\" x2=\"288\" y2=\"50\" style=\"stroke-width:2\" />\n",
       "\n",
       "  <!-- Colored Rectangle -->\n",
       "  <polygon points=\"190.000000,0.000000 238.000000,0.000000 288.420168,50.420168 240.420168,50.420168\" style=\"fill:#ECB172A0;stroke-width:0\"/>\n",
       "\n",
       "  <!-- Horizontal lines -->\n",
       "  <line x1=\"240\" y1=\"50\" x2=\"288\" y2=\"50\" style=\"stroke-width:2\" />\n",
       "  <line x1=\"240\" y1=\"94\" x2=\"288\" y2=\"94\" style=\"stroke-width:2\" />\n",
       "\n",
       "  <!-- Vertical lines -->\n",
       "  <line x1=\"240\" y1=\"50\" x2=\"240\" y2=\"94\" style=\"stroke-width:2\" />\n",
       "  <line x1=\"288\" y1=\"50\" x2=\"288\" y2=\"94\" style=\"stroke-width:2\" />\n",
       "\n",
       "  <!-- Colored Rectangle -->\n",
       "  <polygon points=\"240.420168,50.420168 288.420168,50.420168 288.420168,94.118429 240.420168,94.118429\" style=\"fill:#ECB172A0;stroke-width:0\"/>\n",
       "\n",
       "  <!-- Text -->\n",
       "  <text x=\"264.420168\" y=\"114.118429\" font-size=\"1.0rem\" font-weight=\"100\" text-anchor=\"middle\" >14</text>\n",
       "  <text x=\"308.420168\" y=\"72.269298\" font-size=\"1.0rem\" font-weight=\"100\" text-anchor=\"middle\" transform=\"rotate(0,308.420168,72.269298)\">11</text>\n",
       "  <text x=\"205.210084\" y=\"88.908345\" font-size=\"1.0rem\" font-weight=\"100\" text-anchor=\"middle\" transform=\"rotate(45,205.210084,88.908345)\">25</text>\n",
       "</svg>\n",
       "</td>\n",
       "</tr>\n",
       "</table></pre></li></ul></div></li><li class='xr-section-item'><input id='section-e7a0e7b8-7b12-4f80-a9d9-d04bb258dcf7' class='xr-section-summary-in' type='checkbox'  checked><label for='section-e7a0e7b8-7b12-4f80-a9d9-d04bb258dcf7' class='xr-section-summary' >Attributes: <span>(2)</span></label><div class='xr-section-inline-details'></div><div class='xr-section-details'><dl class='xr-attrs'><dt><span>Conventions :</span></dt><dd>CF-1.6</dd><dt><span>history :</span></dt><dd>2020-05-13 14:48:38 GMT by grib_to_netcdf-2.16.0: /opt/ecmwf/eccodes/bin/grib_to_netcdf -S param -o /cache/data9/adaptor.mars.external-1589381301.6300867-8112-3-49ba0ab2-34fe-4364-9dec-700bf911b079.nc /cache/tmp/49ba0ab2-34fe-4364-9dec-700bf911b079-adaptor.mars.external-1589381301.6558385-8112-2-tmp.grib</dd></dl></div></li></ul></div></div>"
      ],
      "text/plain": [
       "<xarray.Dataset>\n",
       "Dimensions:    (latitude: 11, leadtime: 5, longitude: 14, number: 25, time: 35)\n",
       "Coordinates:\n",
       "  * longitude  (longitude) float32 -11.0 -10.0 -9.0 -8.0 ... -1.0 0.0 1.0 2.0\n",
       "  * number     (number) int32 0 1 2 3 4 5 6 7 8 9 ... 16 17 18 19 20 21 22 23 24\n",
       "  * latitude   (latitude) float32 60.0 59.0 58.0 57.0 ... 53.0 52.0 51.0 50.0\n",
       "  * time       (time) datetime64[ns] 1982-02-01 1983-02-01 ... 2016-02-01\n",
       "  * leadtime   (leadtime) int64 2 3 4 5 6\n",
       "Data variables:\n",
       "    tprate     (time, number, latitude, longitude) float32 dask.array<chunksize=(1, 25, 11, 14), meta=np.ndarray>\n",
       "Attributes:\n",
       "    Conventions:  CF-1.6\n",
       "    history:      2020-05-13 14:48:38 GMT by grib_to_netcdf-2.16.0: /opt/ecmw..."
      ]
     },
     "execution_count": 10,
     "metadata": {},
     "output_type": "execute_result"
    }
   ],
   "source": [
    "SEAS5_UK = preprocess.merge_SEAS5(folder = '../UK_example/SEAS5/', target_months = [2])\n",
    "SEAS5_UK"
   ]
  },
  {
   "cell_type": "code",
   "execution_count": null,
   "metadata": {},
   "outputs": [],
   "source": []
  },
  {
   "cell_type": "markdown",
   "metadata": {},
   "source": [
    "### Read more\n",
    "Jump into the respective sections for more detail:\n",
    "\n",
    "* **Download**\n",
    "    * [1. Retrieve](1.Download/1.Retrieve.ipynb) \n",
    "* **Pre-process**\n",
    "    * [2.1 Merge](2.Preprocess/2.1Merge.ipynb)  \n",
    "    * [2.2 Mask](2.Preprocess/2.2Mask.ipynb)\n",
    "    * [2.3 Upscale](2.Preprocess/2.3Upscale.ipynb)\n",
    "* **Evaluate**\n",
    "    * [3. Evaluate](3.Evaluate/3.Evaluate.ipynb)\n",
    "* **Illustrate**\n",
    "    "
   ]
  },
  {
   "cell_type": "code",
   "execution_count": null,
   "metadata": {},
   "outputs": [],
   "source": []
  }
 ],
 "metadata": {
  "kernelspec": {
   "display_name": "R",
   "language": "R",
   "name": "ir"
  },
  "language_info": {
   "codemirror_mode": "r",
   "file_extension": ".r",
   "mimetype": "text/x-r-source",
   "name": "R",
   "pygments_lexer": "r",
   "version": "3.6.3"
  }
 },
 "nbformat": 4,
 "nbformat_minor": 4
}
