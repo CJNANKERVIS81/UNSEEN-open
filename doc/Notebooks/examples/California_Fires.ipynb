{
 "cells": [
  {
   "cell_type": "markdown",
   "metadata": {},
   "source": [
    "<div class=\"alert alert-info\">\n",
    "\n",
    "Launch in Binder     [![Binder](https://mybinder.org/badge_logo.svg)](https://mybinder.org/v2/gh/esowc/UNSEEN-open/master?filepath=doc%2FNotebooks%2Fexamples%2FCalifornia_Fires.ipynb)\n",
    "\n",
    "<!-- Or launch an [Rstudio instance](https://mybinder.org/v2/gh/esowc/UNSEEN-open/master?urlpath=rstudio?filepath=doc%2Fexamples%2FCalifornia_Fires.ipynb)\n",
    " -->\n",
    "</div>"
   ]
  },
  {
   "cell_type": "markdown",
   "metadata": {},
   "source": [
    "# Californian fires\n",
    "\n",
    "In August 2020 in California, wildfires have burned more than [ a million acres of land](https://edition.cnn.com/2020/10/06/us/gigafire-california-august-complex-trnd/index.html). \n",
    "\n",
    "![California Temperature August 2020](../../../graphs/California_anomaly.png)\n",
    "\n",
    "Here we retrieve average august temperatures over California within ERA5 1979-2020 to assess how extreme the temperatures have been. We furthermore create an UNSEEN ensemble to assess whether such an event could have been anticipated.  \n",
    "\n"
   ]
  },
  {
   "cell_type": "markdown",
   "metadata": {},
   "source": [
    "### Retrieve data"
   ]
  },
  {
   "cell_type": "markdown",
   "metadata": {
    "nbsphinx": "hidden"
   },
   "source": [
    "<div class=\"alert alert-info\">\n",
    "\n",
    "Note\n",
    "    \n",
    "In this notebook you cannot use the python functions under Retrieve and Preprocess (they are here only for documentation on the entire workflow, see [retrieve](../1.Download/1.Retrieve.ipynb) if you want to download your own dataset. The resulting preprocessed dataset is provided so you can perform statistical analysis on the dataset and rerun the evaluation and examples provided.\n",
    "    \n",
    "</div>"
   ]
  },
  {
   "cell_type": "markdown",
   "metadata": {},
   "source": [
    "The main functions to retrieve all forecasts (SEAS5) and reanalysis (ERA5) are `retrieve_SEAS5` and `retrieve_ERA5`. We want to download 2m temperature for August over California. By default, the hindcast years of 1981-2016 are downloaded for SEAS5. We include the years 1981-2020. The folder indicates where the files will be stored, in this case outside of the UNSEEN-open repository, in a 'California_example' directory. For more explanation, see [retrieve](../1.Download/1.Retrieve.ipynb)."
   ]
  },
  {
   "cell_type": "code",
   "execution_count": 1,
   "metadata": {},
   "outputs": [],
   "source": [
    "import os\n",
    "import sys\n",
    "sys.path.insert(0, os.path.abspath('../../../'))\n",
    "os.chdir(os.path.abspath('../../../'))\n",
    "\n",
    "import src.cdsretrieve as retrieve\n",
    "import src.preprocess as preprocess\n",
    "\n",
    "import numpy as np\n",
    "import xarray as xr"
   ]
  },
  {
   "cell_type": "code",
   "execution_count": 2,
   "metadata": {},
   "outputs": [],
   "source": [
    "retrieve.retrieve_SEAS5(\n",
    "    variables=['2m_temperature', '2m_dewpoint_temperature'],\n",
    "    target_months=[8],\n",
    "    area=[70, -130, 20, -70],\n",
    "    years=np.arange(1981, 2021),\n",
    "    folder='E:/PhD/California_example/SEAS5/')"
   ]
  },
  {
   "cell_type": "code",
   "execution_count": 3,
   "metadata": {},
   "outputs": [],
   "source": [
    "retrieve.retrieve_ERA5(variables=['2m_temperature', '2m_dewpoint_temperature'],\n",
    "                       target_months=[8],\n",
    "                       area=[70, -130, 20, -70],\n",
    "                       folder='E:/PhD/California_example/ERA5/')"
   ]
  },
  {
   "cell_type": "markdown",
   "metadata": {},
   "source": [
    "### Preprocess"
   ]
  },
  {
   "cell_type": "markdown",
   "metadata": {},
   "source": [
    "In the preprocessing step, we first merge all downloaded files into one xarray dataset, then take the spatial average over the domain and a temporal average over the MAM season. Read the docs on [preprocessing](../2.Preprocess/2.Preprocess.ipynb) for more info. "
   ]
  },
  {
   "cell_type": "code",
   "execution_count": 4,
   "metadata": {
    "scrolled": true
   },
   "outputs": [
    {
     "name": "stdout",
     "output_type": "stream",
     "text": [
      "Lead time: 07\n",
      "6\n",
      "5\n",
      "4\n",
      "3\n"
     ]
    }
   ],
   "source": [
    "SEAS5_California = preprocess.merge_SEAS5(folder ='E:/PhD/California_example/SEAS5/', target_months = [8])"
   ]
  },
  {
   "cell_type": "markdown",
   "metadata": {},
   "source": [
    "And for ERA5:"
   ]
  },
  {
   "cell_type": "code",
   "execution_count": 5,
   "metadata": {
    "scrolled": true
   },
   "outputs": [],
   "source": [
    "ERA5_California = xr.open_mfdataset('E:/PhD/California_example/ERA5/ERA5_????.nc',combine='by_coords')"
   ]
  },
  {
   "cell_type": "markdown",
   "metadata": {},
   "source": [
    "We calculate the [standardized anomaly of the 2020 event](../California_august_temperature_anomaly.ipynb) and select the 2m temperature over the region where 2 standard deviations from the 1979-2010 average was exceeded. This is a simple average, an area-weighed average is more appropriate, since grid cell area decreases with latitude, see [preprocess](../2.Preprocess/2.Preprocess.ipynb). "
   ]
  },
  {
   "cell_type": "code",
   "execution_count": 6,
   "metadata": {},
   "outputs": [],
   "source": [
    "ERA5_anomaly = ERA5_California['t2m'] - ERA5_California['t2m'].sel(time=slice('1979','2010')).mean('time')\n",
    "ERA5_sd_anomaly = ERA5_anomaly / ERA5_California['t2m'].std('time')"
   ]
  },
  {
   "cell_type": "code",
   "execution_count": 7,
   "metadata": {},
   "outputs": [],
   "source": [
    "ERA5_California_events = (\n",
    "    ERA5_California['t2m'].sel(  # Select 2 metre temperature\n",
    "        longitude = slice(-125,-100),    # Select the longitude\n",
    "        latitude = slice(45,20)).        # And the latitude\n",
    "    where(ERA5_sd_anomaly.sel(time = '2020').squeeze('time') > 2). ##Mask the region where 2020 sd >2. \n",
    "    mean(['longitude', 'latitude'])) #And take the mean"
   ]
  },
  {
   "cell_type": "markdown",
   "metadata": {},
   "source": [
    "Plot the August temperatures over the defined California domain: "
   ]
  },
  {
   "cell_type": "code",
   "execution_count": 8,
   "metadata": {},
   "outputs": [
    {
     "data": {
      "text/plain": [
       "[<matplotlib.lines.Line2D at 0x1dc77e84910>]"
      ]
     },
     "execution_count": 8,
     "metadata": {},
     "output_type": "execute_result"
    },
    {
     "data": {
      "image/png": "[encoded data removed]",
      "text/plain": [
       "<Figure size 432x288 with 1 Axes>"
      ]
     },
     "metadata": {
      "needs_background": "light"
     },
     "output_type": "display_data"
    }
   ],
   "source": [
    "ERA5_California_events.plot()"
   ]
  },
  {
   "cell_type": "markdown",
   "metadata": {},
   "source": [
    "Select the same domain for SEAS5 and extract the events."
   ]
  },
  {
   "cell_type": "code",
   "execution_count": 9,
   "metadata": {},
   "outputs": [],
   "source": [
    "SEAS5_California_events = (\n",
    "    SEAS5_California['t2m'].sel(\n",
    "        longitude = slice(-125,-100),    # Select the longitude\n",
    "        latitude = slice(45,20)).\n",
    "    where(ERA5_sd_anomaly.sel(time = '2020').squeeze('time') > 2).\n",
    "    mean(['longitude', 'latitude']))"
   ]
  },
  {
   "cell_type": "markdown",
   "metadata": {},
   "source": [
    "And here we store the data in the Data section so the rest of the analysis in R can be reproduced. "
   ]
  },
  {
   "cell_type": "code",
   "execution_count": 10,
   "metadata": {},
   "outputs": [
    {
     "name": "stderr",
     "output_type": "stream",
     "text": [
      "C:\\anaconda3\\envs\\unseen\\lib\\site-packages\\dask\\array\\numpy_compat.py:41: RuntimeWarning: invalid value encountered in true_divide\n",
      "  x = np.divide(x1, x2, out)\n"
     ]
    }
   ],
   "source": [
    "SEAS5_California_events.to_dataframe().to_csv('Data/SEAS5_California_events.csv')\n",
    "ERA5_California_events.to_dataframe().to_csv('Data/ERA5_California_events.csv')"
   ]
  },
  {
   "cell_type": "markdown",
   "metadata": {},
   "source": [
    "### Evaluate\n"
   ]
  },
  {
   "cell_type": "markdown",
   "metadata": {},
   "source": [
    "<div class=\"alert alert-info\">\n",
    "\n",
    "Note\n",
    "\n",
    "From here onward we use R and not python!\n",
    "    \n",
    "We switch to R since we believe R has a better functionality in extreme value statistics. \n",
    "\n",
    "</div>"
   ]
  },
  {
   "cell_type": "code",
   "execution_count": 1,
   "metadata": {
    "nbsphinx": "hidden"
   },
   "outputs": [
    {
     "data": {
      "text/html": [
       "'C:/Users/Timo/OneDrive - Loughborough University/GitHub/UNSEEN-open'"
      ],
      "text/latex": [
       "'C:/Users/Timo/OneDrive - Loughborough University/GitHub/UNSEEN-open'"
      ],
      "text/markdown": [
       "'C:/Users/Timo/OneDrive - Loughborough University/GitHub/UNSEEN-open'"
      ],
      "text/plain": [
       "[1] \"C:/Users/Timo/OneDrive - Loughborough University/GitHub/UNSEEN-open\""
      ]
     },
     "metadata": {},
     "output_type": "display_data"
    }
   ],
   "source": [
    "setwd('../../..')\n",
    "getwd()\n",
    "SEAS5_California_events <- read.csv(\"Data/SEAS5_California_events.csv\", stringsAsFactors=FALSE)\n",
    "ERA5_California_events <- read.csv(\"Data/ERA5_California_events.csv\", stringsAsFactors=FALSE)\n",
    "\n",
    "## Convert Kelvin to Celsius\n",
    "SEAS5_California_events$t2m <- SEAS5_California_events$t2m - 273.15\n",
    "ERA5_California_events$t2m <- ERA5_California_events$t2m - 273.15\n",
    "\n",
    "## Convert character time to Date format\n",
    "ERA5_California_events$time <- lubridate::ymd(ERA5_California_events$time)\n",
    "SEAS5_California_events$time <- lubridate::ymd(SEAS5_California_events$time)"
   ]
  },
  {
   "cell_type": "markdown",
   "metadata": {},
   "source": [
    "*Is the UNSEEN ensemble realistic?* \n",
    "\n",
    "To answer this question, we perform three statistical tests: independence, model stability and model fidelity tests.  \n",
    "These statistical tests are available through the [UNSEEN R package](https://github.com/timokelder/UNSEEN). \n",
    "See [evaluation](../3.Evaluate/3.Evaluate.ipynb) for more info."
   ]
  },
  {
   "cell_type": "code",
   "execution_count": 2,
   "metadata": {
    "scrolled": false
   },
   "outputs": [
    {
     "name": "stderr",
     "output_type": "stream",
     "text": [
      "Loading required package: UNSEEN\n",
      "\n"
     ]
    }
   ],
   "source": [
    "require(UNSEEN)"
   ]
  },
  {
   "cell_type": "markdown",
   "metadata": {},
   "source": [
    "#### Timeseries\n",
    "<a id='Timeseries'></a>\n",
    "\n",
    "We plot the timeseries of SEAS5 (UNSEEN) and ERA5 (OBS) for the the Siberian Heatwave. "
   ]
  },
  {
   "cell_type": "markdown",
   "metadata": {
    "nbsphinx": "hidden"
   },
   "source": [
    "You can call the documentation of the function with `?unseen_timeseries`"
   ]
  },
  {
   "cell_type": "code",
   "execution_count": 15,
   "metadata": {},
   "outputs": [
    {
     "data": {
      "image/png": "[encoded data removed]",
      "text/plain": [
       "plot without title"
      ]
     },
     "metadata": {
      "image/png": {
       "height": 420,
       "width": 420
      }
     },
     "output_type": "display_data"
    }
   ],
   "source": [
    "plot(ERA5_California_events, type='l', ylab = 'August California temperature (C)')"
   ]
  },
  {
   "cell_type": "code",
   "execution_count": 3,
   "metadata": {},
   "outputs": [
    {
     "name": "stderr",
     "output_type": "stream",
     "text": [
      "Warning message:\n",
      "\"Removed 4680 rows containing non-finite values (stat_boxplot).\"\n"
     ]
    },
    {
     "ename": "ERROR",
     "evalue": "Error in ggsave(timeseries, height = 5, width = 6, filename = \"graphs/Calif_timeseries.png\"): could not find function \"ggsave\"\n",
     "output_type": "error",
     "traceback": [
      "Error in ggsave(timeseries, height = 5, width = 6, filename = \"graphs/Calif_timeseries.png\"): could not find function \"ggsave\"\nTraceback:\n"
     ]
    },
    {
     "data": {
      "image/png": "[encoded data removed]",
      "text/plain": [
       "plot without title"
      ]
     },
     "metadata": {
      "image/png": {
       "height": 420,
       "width": 420
      }
     },
     "output_type": "display_data"
    }
   ],
   "source": [
    "timeseries = unseen_timeseries(\n",
    "    ensemble = SEAS5_California_events,\n",
    "    obs = ERA5_California_events,\n",
    "    ensemble_yname = \"t2m\",\n",
    "    ensemble_xname = \"time\",\n",
    "    obs_yname = \"t2m\",\n",
    "    obs_xname = \"time\",\n",
    "    ylab = \"August California temperature (C)\")\n",
    "\n",
    "\n",
    "timeseries\n",
    "\n",
    "ggsave(timeseries, height = 5, width = 6,   filename = \"graphs/Calif_timeseries.png\")\n"
   ]
  },
  {
   "cell_type": "markdown",
   "metadata": {},
   "source": [
    "The timeseries consist of **hindcast (years 1982-2016)** and **archived forecasts (years 2017-2020)**. The datasets are slightly different: the hindcasts contains 25 members whereas operational forecasts contain 51 members, the native resolution is different and the dataset from which the forecasts are initialized is different. \n",
    "\n",
    "**For the evaluation of the UNSEEN ensemble we want to only use the SEAS5 hindcasts for a consistent dataset**. Note, 2017 is not used in either the hindcast nor the operational dataset, since it contains forecasts both initialized in 2016 (hindcast) and 2017 (forecast), see [retrieve](../1.Download/1.Retrieve.ipynb).\n",
    "We split SEAS5 into hindcast and operational forecasts:"
   ]
  },
  {
   "cell_type": "code",
   "execution_count": 4,
   "metadata": {},
   "outputs": [],
   "source": [
    "SEAS5_California_events_hindcast <- SEAS5_California_events[\n",
    "    SEAS5_California_events$time < '2017-02-01' &\n",
    "    SEAS5_California_events$number < 25,]\n",
    "\n",
    "SEAS5_California_events_forecasts <- SEAS5_California_events[\n",
    "    SEAS5_California_events$time > '2017-02-01',]"
   ]
  },
  {
   "cell_type": "markdown",
   "metadata": {},
   "source": [
    "And we select the same years for ERA5. "
   ]
  },
  {
   "cell_type": "code",
   "execution_count": 5,
   "metadata": {},
   "outputs": [],
   "source": [
    "ERA5_California_events_hindcast <- ERA5_California_events[\n",
    "    ERA5_California_events$time > '1981-02-01' &\n",
    "    ERA5_California_events$time < '2017-02-01',]"
   ]
  },
  {
   "cell_type": "markdown",
   "metadata": {},
   "source": [
    "Which results in the following timeseries:"
   ]
  },
  {
   "cell_type": "code",
   "execution_count": 6,
   "metadata": {
    "scrolled": true
   },
   "outputs": [
    {
     "data": {
      "image/png": "[encoded data removed]",
      "text/plain": [
       "plot without title"
      ]
     },
     "metadata": {
      "image/png": {
       "height": 420,
       "width": 420
      }
     },
     "output_type": "display_data"
    }
   ],
   "source": [
    "unseen_timeseries(\n",
    "    ensemble = SEAS5_California_events_hindcast,\n",
    "    obs = ERA5_California_events_hindcast,\n",
    "    ensemble_yname = \"t2m\",\n",
    "    ensemble_xname = \"time\",\n",
    "    obs_yname = \"t2m\",\n",
    "    obs_xname = \"time\",\n",
    "    ylab = \"August California temperature (C)\")\n",
    "\n"
   ]
  },
  {
   "cell_type": "markdown",
   "metadata": {},
   "source": [
    "#### Evaluation tests\n",
    "With the hindcast dataset we evaluate the independence, stability and fidelity. Here, we plot the results for the fidelity test, for more detail on the other tests see the [evaluation section](../3.Evaluate/3.Evaluate.ipynb). \n",
    "\n",
    "The fidelity test shows us how consistent the model simulations of UNSEEN (SEAS5) are with the observed (ERA5). The UNSEEN dataset is much larger than the observed -- hence they cannot simply be compared. For example, what if we had faced a few more or a few less heatwaves purely by chance? \n",
    "\n",
    "This would influence the observed mean, but not so much influence the UNSEEN ensemble because of the large data sample. Therefore we express the UNSEEN ensemble as a range of plausible means, for data samples of the same length as the observed. We do the same for higher order [statistical moments](https://en.wikipedia.org/wiki/Moment_(mathematics)). "
   ]
  },
  {
   "cell_type": "code",
   "execution_count": 7,
   "metadata": {
    "scrolled": true
   },
   "outputs": [
    {
     "ename": "ERROR",
     "evalue": "Error in ggsave(Eval, filename = \"graphs/Calif_fidelity.png\"): could not find function \"ggsave\"\n",
     "output_type": "error",
     "traceback": [
      "Error in ggsave(Eval, filename = \"graphs/Calif_fidelity.png\"): could not find function \"ggsave\"\nTraceback:\n"
     ]
    },
    {
     "data": {
      "image/png": "[encoded data removed]",
      "text/plain": [
       "plot without title"
      ]
     },
     "metadata": {
      "image/png": {
       "height": 420,
       "width": 420
      }
     },
     "output_type": "display_data"
    }
   ],
   "source": [
    "Eval = fidelity_test(\n",
    "    obs = ERA5_California_events_hindcast$t2m,\n",
    "    ensemble = SEAS5_California_events_hindcast$t2m,\n",
    "    units = 'C',\n",
    "    biascor = FALSE,\n",
    "    fontsize = 14\n",
    ")\n",
    "\n",
    "Eval\n",
    "ggsave(Eval, filename = \"graphs/Calif_fidelity.png\")\n"
   ]
  },
  {
   "cell_type": "markdown",
   "metadata": {},
   "source": [
    "The fidelity test shows that the mean of the UNSEEN ensemble is too low compared to the observed -- the blue line falls outside of the model range in a. To correct for this low bias, we can apply an additive bias correction, which only corrects the mean of the simulations. \n",
    "\n",
    "Lets apply the additive biascor:"
   ]
  },
  {
   "cell_type": "code",
   "execution_count": 8,
   "metadata": {
    "scrolled": true
   },
   "outputs": [
    {
     "data": {
      "image/png": "[encoded data removed]",
      "text/plain": [
       "plot without title"
      ]
     },
     "metadata": {
      "image/png": {
       "height": 420,
       "width": 420
      }
     },
     "output_type": "display_data"
    }
   ],
   "source": [
    "obs = ERA5_California_events_hindcast$t2m\n",
    "ensemble = SEAS5_California_events_hindcast$t2m\n",
    "ensemble_biascor = ensemble + (mean(obs) - mean(ensemble))\n",
    "\n",
    "fidelity_test(\n",
    "    obs = obs,\n",
    "    ensemble = ensemble_biascor,\n",
    "    units = 'C',\n",
    "    biascor = FALSE\n",
    ")"
   ]
  },
  {
   "cell_type": "markdown",
   "metadata": {},
   "source": [
    "This shows us what we expected: the mean bias is corrected because the model simulations are shifted up (the blue line is still the same, the axis has just shifted along with the histogram), but the other statistical moments are the same. "
   ]
  },
  {
   "cell_type": "markdown",
   "metadata": {},
   "source": [
    "### Illustrate"
   ]
  },
  {
   "cell_type": "code",
   "execution_count": 9,
   "metadata": {
    "scrolled": true
   },
   "outputs": [
    {
     "name": "stderr",
     "output_type": "stream",
     "text": [
      "Loading required package: Lmoments\n",
      "\n",
      "Loading required package: distillery\n",
      "\n",
      "\n",
      "Attaching package: 'extRemes'\n",
      "\n",
      "\n",
      "The following objects are masked from 'package:stats':\n",
      "\n",
      "    qqnorm, qqplot\n",
      "\n",
      "\n"
     ]
    }
   ],
   "source": [
    "source('src/evt_plot.r')"
   ]
  },
  {
   "cell_type": "markdown",
   "metadata": {},
   "source": [
    "First, we fit a Gumbel and a GEV distribution (including shape parameter) to the observed extremes. The Gumbel distribution best describes the data because the p-value of 0.43 is much above 0.05 (based on the likelihood ratio test). "
   ]
  },
  {
   "cell_type": "code",
   "execution_count": 10,
   "metadata": {},
   "outputs": [
    {
     "data": {
      "text/plain": [
       "\n",
       "\tLikelihood-ratio Test\n",
       "\n",
       "data:  obsobs\n",
       "Likelihood-ratio = 0.60432, chi-square critical value = 3.8415, alpha =\n",
       "0.0500, Degrees of Freedom = 1.0000, p-value = 0.4369\n",
       "alternative hypothesis: greater\n"
      ]
     },
     "metadata": {},
     "output_type": "display_data"
    }
   ],
   "source": [
    "fit_obs_Gumbel <- fevd(x = obs,\n",
    "                    type = \"Gumbel\"\n",
    "                   )\n",
    "fit_obs_GEV <- fevd(x = obs,\n",
    "                    type = \"GEV\"\n",
    "                   )\n",
    "lr.test(fit_obs_Gumbel, fit_obs_GEV)"
   ]
  },
  {
   "cell_type": "markdown",
   "metadata": {},
   "source": [
    "We show the gumbel plot for the observed (ERA5) and UNSEEN (SEAS5 hindcast data). This shows that the UNSEEN simulations are not within the uncertainty range of the observations. This has likely two reasons, illustrated in the evaluation section: there is some dependence between the events and there is too little variability within the UNSEEN ensemble. "
   ]
  },
  {
   "cell_type": "code",
   "execution_count": 11,
   "metadata": {},
   "outputs": [
    {
     "data": {
      "image/png": "[encoded data removed]",
      "text/plain": [
       "plot without title"
      ]
     },
     "metadata": {
      "image/png": {
       "height": 420,
       "width": 720
      }
     },
     "output_type": "display_data"
    }
   ],
   "source": [
    "options(repr.plot.width = 12)\n",
    "GEV_hindcast <- EVT_plot(ensemble = ensemble,\n",
    "                         obs = obs,\n",
    "                         main = \"Gumbel fit\",\n",
    "                         GEV_type = \"Gumbel\",\n",
    "#                          ylim = 3,\n",
    "                         y_lab = 'August California temperature (C)'\n",
    "                        ) + \n",
    "                geom_hline(yintercept = ERA5_California_events$t2m[length(ERA5_California_events$t2m)])\n",
    "\n",
    "GEV_hindcast_corrected <- EVT_plot(ensemble = ensemble_biascor, #SEAS5_Siberia_events_zoomed_hindcast$t2m,\n",
    "                                   obs = obs,\n",
    "                                   main = \"Additive correction\",\n",
    "                                   GEV_type = \"Gumbel\",\n",
    "#                                    ylim = 3,\n",
    "                                   y_lab = 'August California temperature (C)'\n",
    "                                  ) + \n",
    "                geom_hline(yintercept = ERA5_California_events$t2m[length(ERA5_California_events$t2m)])\n",
    "\n",
    "ggarrange(GEV_hindcast, GEV_hindcast_corrected,\n",
    "  labels = c(\"a\", \"b\"), # ,\"c\",\"d\"),\n",
    "  common.legend = T,\n",
    "  font.label = list(size = 10, color = \"black\", face = \"bold\", family = NULL),\n",
    "  ncol = 2, nrow = 1\n",
    ")"
   ]
  },
  {
   "cell_type": "markdown",
   "metadata": {},
   "source": [
    "So what can we get out of it? What if we look at the operational forecast? Even if we cannot use the dataset as a whole to estimate the likelihood of occurrence, have events similar to the 2020 event occurred?  \n",
    "\n",
    "We select 2018-2020 archived SEAS5 forecasts as UNSEEN events, check out the [timeseries section](#Timeseries) for more info on the difference between the hindcast data and the archived forecasts. We furthermore select all ERA5 (observed) events except for the 2020 event as reference to estimate the likelihood of the 2020 event."
   ]
  },
  {
   "cell_type": "code",
   "execution_count": 12,
   "metadata": {},
   "outputs": [],
   "source": [
    "ERA5_events_min2020 <- ERA5_California_events[1:length(ERA5_California_events$t2m)-1,]\n",
    "ERA5_events_2020 <- ERA5_California_events[length(ERA5_California_events$t2m),]"
   ]
  },
  {
   "cell_type": "code",
   "execution_count": 13,
   "metadata": {
    "scrolled": true
   },
   "outputs": [
    {
     "data": {
      "image/png": "[encoded data removed]",
      "text/plain": [
       "plot without title"
      ]
     },
     "metadata": {
      "image/png": {
       "height": 420,
       "width": 720
      }
     },
     "output_type": "display_data"
    }
   ],
   "source": [
    "GEV_forecasts <- EVT_plot(ensemble = SEAS5_California_events_forecasts$t2m,\n",
    "                          obs = ERA5_events_min2020$t2m,\n",
    "                          main = \"\",\n",
    "                          GEV_type = \"Gumbel\",\n",
    "#                           ylim = 3,\n",
    "                          y_lab = 'August California temperature (C)'\n",
    "                         ) # %>%\n",
    "GEV_forecasts + geom_hline(yintercept = ERA5_events_2020$t2m)"
   ]
  },
  {
   "cell_type": "markdown",
   "metadata": {},
   "source": [
    "How about nonstationarity?\n",
    "\n",
    "Here I fit nonstationary distributions to the observed and to UNSEEN, and test whether those distributions fit better than stationary distributions. With a p value of 0.006, the nonstationary distribution is clearly a better fit. "
   ]
  },
  {
   "cell_type": "code",
   "execution_count": 17,
   "metadata": {},
   "outputs": [
    {
     "data": {
      "text/plain": [
       "\n",
       "\tLikelihood-ratio Test\n",
       "\n",
       "data:  obsobs\n",
       "Likelihood-ratio = 12.617, chi-square critical value = 7.8147, alpha =\n",
       "0.0500, Degrees of Freedom = 3.0000, p-value = 0.005542\n",
       "alternative hypothesis: greater\n"
      ]
     },
     "metadata": {},
     "output_type": "display_data"
    }
   ],
   "source": [
    "fit_obs_GEV_nonstat <- fevd(x = obs,\n",
    "                            type = \"GEV\",\n",
    "                            location.fun = ~ c(1:36), ##Fitting the gev with a location and scale parameter linearly correlated to the covariate (years)\n",
    "                            scale.fun = ~ c(1:36), \n",
    "                            use.phi = TRUE\n",
    "                           )\n",
    "\n",
    "lr.test(fit_obs_Gumbel, fit_obs_GEV_nonstat) \n"
   ]
  },
  {
   "cell_type": "markdown",
   "metadata": {},
   "source": [
    "And for the unseen ensemble it is slightly more complicated. We need a covariate that has the same length as the ensemble:"
   ]
  },
  {
   "cell_type": "code",
   "execution_count": null,
   "metadata": {},
   "outputs": [],
   "source": [
    "#Create the ensemble covariate\n",
    "year_vector = as.integer(format(SEAS5_California_events_hindcast$time, format=\"%Y\"))\n",
    "covariate_ens = year_vector - 1980 \n",
    "\n",
    "# Fit the stationary distribution\n",
    "fit_unseen_GEV <- fevd(x = ensemble_biascor,\n",
    "                       type = 'GEV',\n",
    "                       use.phi = TRUE)\n",
    "\n",
    "fit_unseen_Gumbel <- fevd(x = ensemble_biascor,\n",
    "                          type = 'Gumbel',\n",
    "                          use.phi = TRUE)\n",
    "\n",
    "# Fit the nonstationary distribution\n",
    "fit_unseen_GEV_nonstat <- fevd(x = ensemble_biascor,\n",
    "                               type = 'GEV',\n",
    "                               location.fun = ~ covariate_ens, ##Fitting the gev with a location and scale parameter linearly correlated to the covariate (years)\n",
    "                               scale.fun = ~ covariate_ens, \n",
    "                               use.phi = TRUE)"
   ]
  },
  {
   "cell_type": "markdown",
   "metadata": {},
   "source": [
    "And the likelihood ratio test tells us that the nonstationary GEV distribution is the best fit:"
   ]
  },
  {
   "cell_type": "code",
   "execution_count": 22,
   "metadata": {},
   "outputs": [
    {
     "data": {
      "text/plain": [
       "\n",
       "\tLikelihood-ratio Test\n",
       "\n",
       "data:  ensemble_biascorensemble_biascor\n",
       "Likelihood-ratio = 577.13, chi-square critical value = 3.8415, alpha =\n",
       "0.0500, Degrees of Freedom = 1.0000, p-value < 2.2e-16\n",
       "alternative hypothesis: greater\n"
      ]
     },
     "metadata": {},
     "output_type": "display_data"
    },
    {
     "data": {
      "text/plain": [
       "\n",
       "\tLikelihood-ratio Test\n",
       "\n",
       "data:  ensemble_biascorensemble_biascor\n",
       "Likelihood-ratio = 956.98, chi-square critical value = 5.9915, alpha =\n",
       "0.0500, Degrees of Freedom = 2.0000, p-value < 2.2e-16\n",
       "alternative hypothesis: greater\n"
      ]
     },
     "metadata": {},
     "output_type": "display_data"
    }
   ],
   "source": [
    "#And test the fit\n",
    "##1. Stationary Gumbel vs stationary GEV\n",
    "lr.test(fit_unseen_Gumbel,fit_unseen_GEV) \n",
    "##2. Stationary GEV vs Nonstationary GEV\n",
    "lr.test(fit_unseen_GEV, fit_unseen_GEV_nonstat) "
   ]
  },
  {
   "cell_type": "code",
   "execution_count": 23,
   "metadata": {},
   "outputs": [],
   "source": [
    "rperiods = c(2, 5, 10, 20, 50, 80, 100, 120, 200, 250, 300, 500, 800,2000,5000)\n",
    "\n",
    "RV_ci <- function(extremes,covariate,return_period,covariate_values,GEV_type) { ## A function to fit the GEV and obtain the return values \n",
    "  fit <- fevd(extremes, type = GEV_type, location.fun = ~ covariate, ##Fitting the gev with a location and scale parameter linearly correlated to the covariate (years)\n",
    "               scale.fun = ~ covariate, use.phi = TRUE)\n",
    "\n",
    "  params_matrix <- make.qcov(fit, vals = list(mu1 = covariate_values,phi1 = covariate_values)) #Create a parameter matrix for the GEV fit\n",
    "  rvs=ci.fevd(fit,alpha = 0.05,type='return.level',return.period = return_period,method =\"normal\",qcov=params_matrix)  #Calculate the return values and confidence intervals for each year   \n",
    "  return(rvs)\n",
    "}\n"
   ]
  },
  {
   "cell_type": "code",
   "execution_count": 24,
   "metadata": {},
   "outputs": [],
   "source": [
    "###Plotting the uncertainty estimation\n",
    "Plot_non_stationary1 <- function(ensemble, obs, x_ens, x_obs, covariate_ens, covariate_obs, rp, GEV_type, title = \"\", ylab = 'Three-day precipitation (mm)') {\n",
    "\n",
    "    ci_ens=RV_ci(extremes = ensemble,\n",
    "                 covariate = covariate_ens,\n",
    "                 return_period = rp,\n",
    "                 covariate_values = covariate_obs, ## The covariate values are used to create the parameter matrix. This should only be the years, most likely same as covariate_obs. c(1:36 in this case)\n",
    "                 GEV_type=GEV_type)\n",
    "\n",
    "    ci_obs=RV_ci(extremes = obs,\n",
    "                 covariate = covariate_obs,\n",
    "                 return_period = rp,\n",
    "                 covariate_values = covariate_obs,\n",
    "                 GEV_type=GEV_type)\n",
    "\n",
    "    ###plot\n",
    "    cols=c(\"OBS\"=\"blue\",\"UNSEEN-trends\"=\"orange\")\n",
    "    p_trend=\n",
    "      ggplot()+\n",
    "      ggtitle(title) +\n",
    "      geom_point(aes(x = x_ens,y = ensemble),size=2,alpha=0.051)+\n",
    "       # scale_size_manual(values = seq(0.1,3,length.out = 3499)) +\n",
    "      geom_point(aes(x=x_obs,y = obs),col='blue',shape=4,size=2,stroke=1.5)+\n",
    "      geom_line(aes(x=x_obs,y = ci_ens[,2]),col='orange')+\n",
    "      geom_ribbon(aes(x=x_obs,ymin = ci_ens[,1],ymax=ci_ens[,3],fill=\"UNSEEN-trends\"),alpha=0.5)+\n",
    "      geom_line(aes(x=x_obs,y = ci_obs[,2]),col='blue')+\n",
    "      geom_ribbon(aes(x=x_obs,ymin = ci_obs[,1],ymax=ci_obs[,3],fill=\"OBS\"),alpha=0.2)+\n",
    "      theme_classic()+\n",
    "      ylab(ylab)+\n",
    "      scale_fill_manual(name=\"Method\",values=cols) +\n",
    "      theme(axis.title.x=element_blank(),\n",
    "            plot.title = element_text(hjust = 0.5),\n",
    "            text=element_text(size=14),\n",
    "            axis.text = element_text(size=14))\n",
    "    return(p_trend)\n",
    "}\n",
    "\n",
    "    "
   ]
  },
  {
   "cell_type": "code",
   "execution_count": 34,
   "metadata": {},
   "outputs": [
    {
     "name": "stderr",
     "output_type": "stream",
     "text": [
      "Saving 6.67 x 6.67 in image\n",
      "\n"
     ]
    }
   ],
   "source": [
    "p <- Plot_non_stationary1(ensemble = ensemble_biascor,\n",
    "                     x_ens = year_vector,\n",
    "                     x_obs = 1981:2016,\n",
    "                     rp = 100,\n",
    "                     obs = obs,\n",
    "                     covariate_ens = covariate_ens,\n",
    "                     covariate_obs = c(1:36),\n",
    "                     GEV_type = 'GEV',\n",
    "                     ylab = 'August temperature (c)')\n",
    "\n",
    "p <- p +\n",
    "  theme(\n",
    "      axis.text = element_text(colour = \"black\"),\n",
    "#       panel.border = element_blank(),\n",
    "#       panel.background = element_rect(fill = \"transparent\"), # bg of the panel\n",
    "#         plot.background = element_rect(fill = \"transparent\", color = NA), # bg of the plot\n",
    "        rect = element_rect(fill = \"transparent\") # all rectangles\n",
    "      )\n",
    "\n",
    "ggsave(p, filename = \"graphs/Calif_trends1.png\",  bg = \"transparent\")"
   ]
  },
  {
   "cell_type": "code",
   "execution_count": 36,
   "metadata": {},
   "outputs": [],
   "source": [
    "\n",
    "Plot_non_stationary2 <- function(ensemble, obs, covariate_ens, covariate_obs, GEV_type, ylab = 'Three-day precipitation (mm)') {\n",
    "\n",
    "    # Calculate the return values for 1981 (covariate = 1)\n",
    "    rvs_1981=RV_ci(extremes = ensemble,\n",
    "                   covariate = covariate_ens,\n",
    "                   return_period = rperiods,\n",
    "                   covariate_values = 1,\n",
    "                   GEV_type = GEV_type) ##calc the return values\n",
    "    colnames(rvs_1981) = c('S5_1981_l','S5_1981','S5_1981_h','S5_1981_sd') #Rename the column\n",
    "\n",
    "    # Calculate the return values for 2015 (covariate = 35)\n",
    "    rvs_2015=RV_ci(extremes = ensemble,\n",
    "                   covariate = covariate_ens,\n",
    "                   return_period = rperiods,\n",
    "                   covariate_values = 35,\n",
    "                   GEV_type = GEV_type)\n",
    "    colnames(rvs_2015) = c('S5_2015_l','S5_2015','S5_2015_h','S5_2015_sd')\n",
    "\n",
    "    rvs_obs_1981=RV_ci(extremes = obs,\n",
    "                       covariate = covariate_obs,\n",
    "                       return_period = rperiods,\n",
    "                       covariate_values = 1,\n",
    "                       GEV_type = GEV_type)\n",
    "    colnames(rvs_obs_1981) = c('Obs_1981_l','Obs_1981','Obs_1981_h','Obs_1981_sd') #Rename the col\n",
    "\n",
    "    rvs_obs_2015=RV_ci(extremes = obs,\n",
    "                       covariate = covariate_obs,\n",
    "                       return_period = rperiods,\n",
    "                       covariate_values = 35,\n",
    "                       GEV_type = GEV_type)\n",
    "    colnames(rvs_obs_2015) = c('Obs_2015_l','Obs_2015','Obs_2015_h','Obs_2015_sd')\n",
    "\n",
    "    ## Combine the return values into one dataframe\n",
    "    rvs=data.frame(cbind(rvs_1981,rvs_2015,rvs_obs_1981,rvs_obs_2015,rperiods))\n",
    "\n",
    "#     cols=c(\"S5_1981\"=\"#f04546\",\"S5_2015\"=\"#3591d1\",\"Obs_1981\"=\"#62c76b\",\"Obs_2015\"=\"#62c76b\")\n",
    "    cols=c(\"1981\"=\"black\",\"2015\"=\"red\")\n",
    "    p=ggplot(data = rvs,aes(x=rperiods))+\n",
    "      geom_line(aes(y = S5_1981),col='black')+\n",
    "      geom_ribbon(aes(ymin=S5_1981_l,ymax=S5_1981_h,fill='1981'),alpha=0.5)+\n",
    "      geom_line(aes(y = S5_2015,colour=\"2015\"),col='red')+\n",
    "      geom_ribbon(aes(ymin=S5_2015_l,ymax=S5_2015_h,fill=\"2015\"), alpha=0.5)+\n",
    "      geom_line(aes(y = Obs_1981),col='black',linetype ='dashed')+\n",
    "      geom_ribbon(aes(ymin=Obs_1981_l,ymax=Obs_1981_h),fill='black', alpha=0.1)+\n",
    "      geom_line(aes(y = Obs_2015),col='red',linetype ='dashed')+\n",
    "      geom_ribbon(aes(ymin=Obs_2015_l,ymax=Obs_2015_h),fill='red', alpha=0.1)+\n",
    "      scale_x_continuous(trans='log10')+\n",
    "      theme_classic()+\n",
    "      scale_fill_manual(name=\"Years\",values=cols) +\n",
    "      xlab('Return period (years)')+\n",
    "      ylab(ylab)+\n",
    "      theme(text=element_text(size=14),\n",
    "            axis.text = element_text(size=14))\n",
    "    return(p)\n",
    "}"
   ]
  },
  {
   "cell_type": "code",
   "execution_count": 37,
   "metadata": {},
   "outputs": [
    {
     "name": "stderr",
     "output_type": "stream",
     "text": [
      "Saving 6.67 x 6.67 in image\n",
      "\n"
     ]
    }
   ],
   "source": [
    "p2 <- Plot_non_stationary2(ensemble = ensemble_biascor,\n",
    "                    obs = obs,\n",
    "                    covariate_ens = covariate_ens,\n",
    "                    covariate_obs = c(1:36), \n",
    "                    GEV_type = 'GEV', \n",
    "                    ylab = 'August temperature (c)')\n",
    "\n",
    "p2 <- p2 +\n",
    "  theme(\n",
    "      axis.text = element_text(colour = \"black\"),\n",
    "      rect = element_rect(fill = \"transparent\") # all rectangles\n",
    "      )\n",
    "\n",
    "ggsave(p2, filename = \"graphs/Calif_trends2.png\",  bg = \"transparent\")"
   ]
  },
  {
   "cell_type": "code",
   "execution_count": 86,
   "metadata": {},
   "outputs": [
    {
     "data": {
      "text/plain": [
       "\n",
       "fevd(x = ensemble_biascor, location.fun = ~covariate_ens, scale.fun = ~covariate_ens, \n",
       "    use.phi = TRUE, type = \"GEV\")\n",
       "\n",
       "[1] \"Estimation Method used: MLE\"\n",
       "\n",
       "\n",
       " Negative Log-Likelihood Value:  5352.044 \n",
       "\n",
       "\n",
       " Estimated parameters:\n",
       "          mu0           mu1          phi0          phi1         shape \n",
       "22.8429588507  0.0363878660 -0.2531170376  0.0005972694 -0.2392073211 \n",
       "\n",
       " Standard Error Estimates:\n",
       "         mu0          mu1         phi0         phi1        shape \n",
       "0.0248690746 0.0011613224 0.0201561700 0.0008586916 0.0058203250 \n",
       "\n",
       " Estimated parameter covariance matrix.\n",
       "                mu0           mu1          phi0          phi1         shape\n",
       "mu0    6.184709e-04 -2.494647e-05 -6.720851e-05  3.761589e-06 -3.145274e-05\n",
       "mu1   -2.494647e-05  1.348670e-06  4.857236e-06 -2.646849e-07  5.068077e-07\n",
       "phi0  -6.720851e-05  4.857236e-06  4.062712e-04 -1.454487e-05 -8.374884e-05\n",
       "phi1   3.761589e-06 -2.646849e-07 -1.454487e-05  7.373513e-07  2.575512e-06\n",
       "shape -3.145274e-05  5.068077e-07 -8.374884e-05  2.575512e-06  3.387618e-05\n",
       "\n",
       " AIC = 10714.09 \n",
       "\n",
       " BIC = 10746.15 "
      ]
     },
     "metadata": {},
     "output_type": "display_data"
    },
    {
     "data": {
      "text/html": [
       "<table>\n",
       "<caption>A matrix: 1 × 6 of type dbl</caption>\n",
       "<thead>\n",
       "\t<tr><th scope=col>mu0</th><th scope=col>mu1</th><th scope=col>phi0</th><th scope=col>phi1</th><th scope=col>shape</th><th scope=col>threshold</th></tr>\n",
       "</thead>\n",
       "<tbody>\n",
       "\t<tr><td>1</td><td>1</td><td>1</td><td>1</td><td>1</td><td>NA</td></tr>\n",
       "</tbody>\n",
       "</table>\n"
      ],
      "text/latex": [
       "A matrix: 1 × 6 of type dbl\n",
       "\\begin{tabular}{llllll}\n",
       " mu0 & mu1 & phi0 & phi1 & shape & threshold\\\\\n",
       "\\hline\n",
       "\t 1 & 1 & 1 & 1 & 1 & NA\\\\\n",
       "\\end{tabular}\n"
      ],
      "text/markdown": [
       "\n",
       "A matrix: 1 × 6 of type dbl\n",
       "\n",
       "| mu0 | mu1 | phi0 | phi1 | shape | threshold |\n",
       "|---|---|---|---|---|---|\n",
       "| 1 | 1 | 1 | 1 | 1 | NA |\n",
       "\n"
      ],
      "text/plain": [
       "     mu0 mu1 phi0 phi1 shape threshold\n",
       "[1,] 1   1   1    1    1     NA       "
      ]
     },
     "metadata": {},
     "output_type": "display_data"
    },
    {
     "data": {
      "text/plain": [
       "fevd(x = ensemble_biascor, location.fun = ~covariate_ens, scale.fun = ~covariate_ens, \n",
       "    use.phi = TRUE, type = \"GEV\")\n",
       "\n",
       "[1] \"Normal Approx.\"\n",
       "\n",
       "                       95% lower CI Estimate 95% upper CI Standard Error\n",
       "2-year return level        23.10553 23.15194     23.19836     0.02368078\n",
       "5-year return level        23.80730 23.85843     23.90957     0.02608872\n",
       "10-year return level       24.17656 24.23119     24.28581     0.02786918\n",
       "20-year return level       24.47388 24.53105     24.58822     0.02916821\n",
       "50-year return level       24.79038 24.84989     24.90939     0.03035804\n",
       "80-year return level       24.92627 24.98672     25.04717     0.03084013\n",
       "100-year return level      24.98544 25.04631     25.10718     0.03105510\n",
       "120-year return level      25.03143 25.09263     25.15384     0.03122758\n",
       "200-year return level      25.14982 25.21197     25.27412     0.03170959\n",
       "250-year return level      25.19706 25.25963     25.32220     0.03192480\n",
       "300-year return level      25.23378 25.29670     25.35963     0.03210457\n",
       "500-year return level      25.32835 25.39231     25.45627     0.03263296\n",
       "800-year return level      25.40550 25.47049     25.53548     0.03315684\n",
       "2000-year return level     25.53254 25.59974     25.66694     0.03428559\n",
       "5000-year return level     25.63387 25.70351     25.77315     0.03553063\n"
      ]
     },
     "metadata": {},
     "output_type": "display_data"
    }
   ],
   "source": [
    "fit <- fevd(ensemble_biascor, type = 'GEV', location.fun = ~ covariate_ens, ##Fitting the gev with a location and scale parameter linearly correlated to the covariate (years)\n",
    "               scale.fun = ~ covariate_ens, use.phi = TRUE)\n",
    "\n",
    "fit\n",
    "params_matrix <- make.qcov(fit, vals = list(mu1 = 1,phi1 = 1)) #Create a parameter matrix for the GEV fit\n",
    "params_matrix\n",
    "rvs=ci.fevd(fit,alpha = 0.05,type='return.level',return.period = rperiods,method =\"normal\",qcov=params_matrix)  #Calculate the return values and confidence intervals for each year   \n",
    "rvs"
   ]
  },
  {
   "cell_type": "code",
   "execution_count": null,
   "metadata": {},
   "outputs": [],
   "source": [
    "rvs_sv_1981=RV_ci(extremes = df_SV$V1,covariate = c(df_WC$Year),return_period = rperiods,covariate_values = 1,GEV_type = GEV_type) ##calc the return values\n",
    "colnames(rvs_sv_1981) = c('S5_1981_l','S5_1981','S5_1981_h','S5_1981_sd') #Rename the column\n",
    "\n",
    "rvs_sv_2015=RV_ci(extremes = df_SV$V1,covariate = c(df_WC$Year),return_period = rperiods,covariate_values = 35,GEV_type = GEV_type)\n",
    "colnames(rvs_sv_2015) = c('S5_2015_l','S5_2015','S5_2015_h','S5_2015_sd')\n",
    "\n",
    "rvs_SV=data.frame(cbind(rvs_sv_1981,rvs_sv_2015,rperiods))\n",
    "\n",
    "cols=c(\"1981\"=\"black\",\"2015\"=\"red\")\n",
    "p_sv=ggplot(data = rvs_SV,aes(x=rperiods))+\n",
    "  geom_line(aes(y = S5_1981),col='black')+\n",
    "  geom_ribbon(aes(ymin=S5_1981_l,ymax=S5_1981_h,fill=\"1981\"),alpha=0.5)+\n",
    "  geom_line(aes(y = S5_2015,colour=\"2015\"),col='red')+\n",
    "  geom_ribbon(aes(ymin=S5_2015_l,ymax=S5_2015_h,fill=\"2015\"), alpha=0.5)+\n",
    "  scale_x_continuous(trans='log10')+\n",
    "  theme_classic()+\n",
    "  scale_fill_manual(name=\"Years\",values=cols) +\n",
    "  theme(axis.title.y=element_blank())+\n",
    "  xlab('Return period (years)')+\n",
    "  ylab('Three-day precipitation (mm)')+\n",
    "  theme(text=element_text(size=7),\n",
    "        axis.text = element_text(size=7))\n",
    "\n",
    "ggarrange(p_wc, p_sv,\n",
    "          labels = c(\"c\", \"d\"),\n",
    "          legend='top',\n",
    "          font.label = list(size = 7, color = \"black\", face =\"bold\", family = NULL),\n",
    "          common.legend = T,\n",
    "          hjust = c(-0.5,1),\n",
    "          ncol = 2, nrow = 1)\n",
    "}\n",
    "\n",
    "CD=Plot_non_stationary(GEV_type = 'GEV')\n",
    "CD"
   ]
  },
  {
   "cell_type": "code",
   "execution_count": null,
   "metadata": {},
   "outputs": [],
   "source": []
  },
  {
   "cell_type": "markdown",
   "metadata": {},
   "source": [
    "**Applications:**\n",
    "\n",
    "We have seen the worst fires over California this year. Such fires are likely part of a chain of impacts, from droughts to heatwaves to fires, with feedbacks between them. We find that August temperatures were very anomalous and we see a clear trend over time. The model simulation has a high bias, but the trend in severe extremes and the drivers of the extremes and trends can be explored in the model ensemble. "
   ]
  }
 ],
 "metadata": {
  "kernelspec": {
   "display_name": "R",
   "language": "R",
   "name": "ir"
  },
  "language_info": {
   "codemirror_mode": "r",
   "file_extension": ".r",
   "mimetype": "text/x-r-source",
   "name": "R",
   "pygments_lexer": "r",
   "version": "3.6.3"
  }
 },
 "nbformat": 4,
 "nbformat_minor": 4
}
