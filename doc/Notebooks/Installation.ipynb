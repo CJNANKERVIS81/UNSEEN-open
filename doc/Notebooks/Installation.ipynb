{
 "cells": [
  {
   "cell_type": "markdown",
   "metadata": {},
   "source": [
    "# Installation\n",
    "\n",
    "[Anaconda](https://www.anaconda.com/products/individual-d#macos) is used as package manager.  \n",
    "\n",
    "## Python\n",
    "\n",
    "For the retrieval and pre-processing of the data, the Copernicus Data Store (CDS) Python API [cdsapi](https://pypi.org/project/cdsapi/) and [xarray](http://xarray.pydata.org/en/stable/index.html) python packages are used. These can be installed using the environment provided in this directory."
   ]
  },
  {
   "cell_type": "code",
   "execution_count": null,
   "metadata": {},
   "outputs": [],
   "source": [
    "conda env create -f environment.yml"
   ]
  },
  {
   "cell_type": "markdown",
   "metadata": {},
   "source": [
    "This creates a conda environment called '*basic_analysis*'. The environment can be activated using:"
   ]
  },
  {
   "cell_type": "code",
   "execution_count": null,
   "metadata": {},
   "outputs": [],
   "source": [
    "conda activate basic_analysis"
   ]
  },
  {
   "cell_type": "markdown",
   "metadata": {},
   "source": [
    "To get this environment as a kernel on jupyter, we need to install 'ipykernel' in the activated environment: "
   ]
  },
  {
   "cell_type": "code",
   "execution_count": null,
   "metadata": {},
   "outputs": [],
   "source": [
    "conda install -c anaconda ipykernel"
   ]
  },
  {
   "cell_type": "markdown",
   "metadata": {},
   "source": [
    "And then install the environment:"
   ]
  },
  {
   "cell_type": "code",
   "execution_count": null,
   "metadata": {},
   "outputs": [],
   "source": [
    "python -m ipykernel install --user --name=basic_analysis"
   ]
  },
  {
   "cell_type": "markdown",
   "metadata": {},
   "source": [
    "Hopefully, you will see the environment now as an available kernel!"
   ]
  },
  {
   "cell_type": "markdown",
   "metadata": {},
   "source": [
    "## R\n",
    "For the evaluation, extreme value analysis and visualization, we use R ggplot and extRemes packages. The evaluation tests have been developed into an ‘UNSEEN’ [R-package](https://github.com/timokelder/UNSEEN). These packages can be installed as follows:"
   ]
  },
  {
   "cell_type": "code",
   "execution_count": null,
   "metadata": {},
   "outputs": [],
   "source": [
    "### install regular packages\n",
    "install.packages(\"extRemes\") # for extreme value statistics\n",
    "install.packages(\"ggplot2\") # for plotting\n",
    "\n",
    "### install GitHub packages (tag = commit, branch or release tag)\n",
    "install.packages(\"devtools\")\n",
    "devtools::install_github(\"timokelder/UNSEEN\") # for evaluation"
   ]
  }
 ],
 "metadata": {
  "kernelspec": {
   "display_name": "UNSEEN-open",
   "language": "python",
   "name": "unseen-open"
  },
  "language_info": {
   "codemirror_mode": {
    "name": "ipython",
    "version": 3
   },
   "file_extension": ".py",
   "mimetype": "text/x-python",
   "name": "python",
   "nbconvert_exporter": "python",
   "pygments_lexer": "ipython3",
   "version": "3.8.2"
  }
 },
 "nbformat": 4,
 "nbformat_minor": 4
}
