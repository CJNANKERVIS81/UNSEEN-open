{
 "cells": [
  {
   "attachments": {},
   "cell_type": "markdown",
   "metadata": {},
   "source": [
    "# Siberia March-May temperature anomalies\n",
    "Seasonal average temperatures broken records were broken across Siberia in March-May 2020. Here we plot the region where ERA5 records were broken."
   ]
  },
  {
   "attachments": {},
   "cell_type": "markdown",
   "metadata": {},
   "source": [
    "In this first section, we load required packages and modules"
   ]
  },
  {
   "cell_type": "code",
   "execution_count": null,
   "metadata": {},
   "outputs": [],
   "source": [
    "##This is so variables get printed within jupyter\n",
    "from IPython.core.interactiveshell import InteractiveShell\n",
    "InteractiveShell.ast_node_interactivity = \"all\""
   ]
  },
  {
   "cell_type": "code",
   "execution_count": null,
   "metadata": {},
   "outputs": [],
   "source": [
    "##import packages\n",
    "\n",
    "import xarray as xr\n",
    "import numpy as np\n",
    "import matplotlib.pyplot as plt\n",
    "import cartopy\n",
    "import cartopy.crs as ccrs\n",
    "import matplotlib.ticker as mticker\n",
    "from shapely import geometry\n",
    "\n",
    "\n",
    "#for rank calculation\n",
    "import bottleneck"
   ]
  },
  {
   "cell_type": "code",
   "execution_count": null,
   "metadata": {},
   "outputs": [],
   "source": [
    "## this is to load our own function to retrieve ERA5,\n",
    "## which is located in ../../src/CDSretrieve.py\n",
    "import os\n",
    "import sys\n",
    "\n",
    "sys.path.insert(0, os.path.abspath('../../'))\n",
    "os.chdir(os.path.abspath('../../'))\n",
    "os.getcwd() #print the working directory"
   ]
  },
  {
   "cell_type": "code",
   "execution_count": null,
   "metadata": {},
   "outputs": [],
   "source": [
    "##And here we load the module\n",
    "import src.cdsretrieve as retrieve\n",
    "import src.preprocess as preprocess"
   ]
  },
  {
   "attachments": {},
   "cell_type": "markdown",
   "metadata": {},
   "source": [
    "## Download ERA5\n",
    "\n",
    "This section describes the retrieval of ERA5.\n",
    "We retrieve netcdf files of global monthly 2m temperature and 2m dewpoint temperature for each year over 1979-2020. \n",
    "The data were retrieved in August 2020."
   ]
  },
  {
   "cell_type": "code",
   "execution_count": null,
   "metadata": {},
   "outputs": [],
   "source": [
    "retrieve.retrieve_ERA5(variables = ['2m_temperature','2m_dewpoint_temperature'], folder = '../Siberia_example/')"
   ]
  },
  {
   "attachments": {},
   "cell_type": "markdown",
   "metadata": {},
   "source": [
    "We load all files with xarray `open_mfdataset`. The latest 3 months in this dataset are made available through ERA5T, which might be slightly different to ERA5.\n",
    "In the downloaded file, an extra dimenions 'expver' indicates which data is ERA5 (`expver = 1`) and which is ERA5T (`expver = 5`). \n",
    "After retrieving and loading, I combine both ERA5 and ERA5T to create a dataset that runs until August 2020.\n"
   ]
  },
  {
   "cell_type": "code",
   "execution_count": null,
   "metadata": {},
   "outputs": [],
   "source": [
    "ERA5 = xr.open_mfdataset('../Siberia_example/ERA5_????.nc',combine='by_coords') ## open the data\n",
    "ERA5"
   ]
  },
  {
   "cell_type": "code",
   "execution_count": null,
   "metadata": {},
   "outputs": [],
   "source": [
    "ERA5_combine =ERA5.sel(expver=1).combine_first(ERA5.sel(expver=5))\n",
    "ERA5_combine.load()"
   ]
  },
  {
   "cell_type": "code",
   "execution_count": null,
   "metadata": {},
   "outputs": [],
   "source": [
    "month_length = ERA5_combine.time.dt.days_in_month\n",
    "ERA5_seasonal = ((ERA5_combine * month_length).resample(time='QS-DEC').sum() / \n",
    "          month_length.resample(time='QS-DEC').sum())\n",
    "ERA5_seasonal"
   ]
  },
  {
   "attachments": {},
   "cell_type": "markdown",
   "metadata": {},
   "source": [
    "## Calculating the rank\n",
    "\n",
    "We want to show for each month whether the recorded monthly average temperature for 2020 is the highest since 1979 (or second highest, etc.). \n",
    "\n",
    "We first select only January months."
   ]
  },
  {
   "cell_type": "code",
   "execution_count": null,
   "metadata": {},
   "outputs": [],
   "source": [
    "ERA5_MAM = ERA5_seasonal.sel(time=ERA5_seasonal['time.month'] == 3) ## Select only for MAM"
   ]
  },
  {
   "attachments": {},
   "cell_type": "markdown",
   "metadata": {},
   "source": [
    "Then we calculate the rank of January average temperatures over the years. We rename the variable 't2m' into 'Temperature rank'. "
   ]
  },
  {
   "cell_type": "code",
   "execution_count": null,
   "metadata": {},
   "outputs": [],
   "source": [
    "ERA5_MAM_rank = ERA5_MAM['t2m'].rank(dim = 'time')\n",
    "ERA5_MAM_rank = ERA5_MAM_rank.rename('Temperature rank')"
   ]
  },
  {
   "attachments": {},
   "cell_type": "markdown",
   "metadata": {},
   "source": [
    "We now have calculated the rank in increasing order, i.e. the highest values has the highest rank. \n",
    "However, we want to show the highest rank being number 1, the second highest being number 2. Therefore, we invert the ranks \n",
    "and then we select the inverted rank of January 2020 average temperature within the January average temperatures of the other years. If January 2020 average temperature would be highest on record, the inverted rank will be 1. Second highest will be 2."
   ]
  },
  {
   "cell_type": "code",
   "execution_count": null,
   "metadata": {
    "scrolled": true
   },
   "outputs": [],
   "source": [
    "ERA5_MAM_rank_inverted = (len(ERA5_MAM_rank.time) - ERA5_MAM_rank + 1).sel(time='2020')\n",
    "ERA5_MAM_rank_inverted"
   ]
  },
  {
   "attachments": {},
   "cell_type": "markdown",
   "metadata": {},
   "source": [
    "## Plotting\n",
    "\n",
    "We define a function to plot the data on a global map:"
   ]
  },
  {
   "cell_type": "code",
   "execution_count": null,
   "metadata": {},
   "outputs": [],
   "source": [
    "def Global_plot(ERA5_i_rank_inverted):\n",
    "    fig, ax = plt.subplots(frameon=False, figsize=(90 / 25.4, 60 / 25.4))\n",
    "    ax = plt.axes(projection=ccrs.Robinson())\n",
    "    ERA5_i_rank_inverted.plot(\n",
    "        ax=ax,\n",
    "        transform=ccrs.PlateCarree(),\n",
    "        levels=[1, 2, 3, 4, 5],\n",
    "        extend='both',\n",
    "        colors=plt.cm.Reds_r)\n",
    "\n",
    "    ax.add_feature(cartopy.feature.BORDERS, linestyle=':')\n",
    "    ax.coastlines(\n",
    "        resolution='110m')  #Currently can be one of “110m”, “50m”, and “10m”.\n",
    "    gl = ax.gridlines(crs=ccrs.PlateCarree(),\n",
    "                      draw_labels=True,\n",
    "                      linewidth=1,\n",
    "                      color='gray',\n",
    "                      alpha=0.5,\n",
    "                      linestyle='--')\n",
    "#     gl.top_labels = False\n",
    "#     gl.right_labels = False\n",
    "    geom = geometry.box(minx=65, # the domain we select\n",
    "                        maxx=120,\n",
    "                        miny=50,\n",
    "                        maxy=70)\n",
    "    ax.add_geometries([geom],\n",
    "                      crs=cartopy.crs.PlateCarree(),\n",
    "                      linewidth=3,\n",
    "                      facecolor='none',\n",
    "                      edgecolor='black')"
   ]
  },
  {
   "attachments": {},
   "cell_type": "markdown",
   "metadata": {},
   "source": [
    "And plot!"
   ]
  },
  {
   "cell_type": "code",
   "execution_count": null,
   "metadata": {},
   "outputs": [],
   "source": [
    "### Set extent and projection\n",
    "plt.rcParams[\"font.family\"] = \"sans-serif\" ##change font\n",
    "plt.rcParams['font.size'] = 10  ## change font size\n",
    "plt.rcParams['svg.fonttype'] = 'none' ## so inkscape recognized texts in svg file\n",
    "plt.rcParams['pdf.fonttype'] = 42 ## so illustrator can recognize text"
   ]
  },
  {
   "cell_type": "code",
   "execution_count": null,
   "metadata": {
    "scrolled": false
   },
   "outputs": [],
   "source": [
    "Global_plot(ERA5_MAM_rank_inverted)\n",
    "# plt.savefig('graphs/Siberia_temprank.pdf')"
   ]
  },
  {
   "attachments": {},
   "cell_type": "markdown",
   "metadata": {},
   "source": [
    "And zoom in for Siberia. We define a new plot:"
   ]
  },
  {
   "cell_type": "code",
   "execution_count": null,
   "metadata": {},
   "outputs": [],
   "source": [
    "def Siberia_plot(ERA5_i_rank_inverted):\n",
    "    fig, ax = plt.subplots(figsize=(9, 4.5))\n",
    "    ax = plt.axes(projection=ccrs.PlateCarree(central_longitude=50.0))\n",
    "    ERA5_i_rank_inverted.plot(\n",
    "        ax=ax,\n",
    "        transform=ccrs.PlateCarree(),\n",
    "        levels=[1, 2, 3, 4, 5],\n",
    "        extend='both',\n",
    "        colors=plt.cm.Reds_r)\n",
    "\n",
    "    ax.add_feature(cartopy.feature.BORDERS, linestyle=':')\n",
    "    ax.coastlines(resolution='50m')\n",
    "    gl = ax.gridlines(crs=ccrs.PlateCarree(),\n",
    "                      draw_labels=True,\n",
    "                      linewidth=1,\n",
    "                      color='gray',\n",
    "                      alpha=0.5,\n",
    "                      linestyle='--')\n",
    "    gl.top_labels = False\n",
    "    gl.right_labels = False\n",
    "    \n",
    "    geom = geometry.box(minx=65, # the domain we select\n",
    "                        maxx=120,\n",
    "                        miny=50,\n",
    "                        maxy=70)\n",
    "    ax.add_geometries([geom],\n",
    "                      crs=cartopy.crs.PlateCarree(),\n",
    "                      linewidth=3,\n",
    "                      facecolor='none',\n",
    "                      edgecolor='black')"
   ]
  },
  {
   "cell_type": "code",
   "execution_count": null,
   "metadata": {},
   "outputs": [],
   "source": [
    "Siberia_plot(ERA5_MAM_rank_inverted.sel(longitude = slice(40,140), latitude = slice(80,40)))\n",
    "# plt.savefig('graphs/Siberia_temprank_zoomed.pdf')"
   ]
  },
  {
   "attachments": {},
   "cell_type": "markdown",
   "metadata": {},
   "source": [
    "### plot the timeseries\n"
   ]
  },
  {
   "cell_type": "code",
   "execution_count": null,
   "metadata": {},
   "outputs": [],
   "source": [
    "ERA5_anomaly = ERA5_MAM['t2m'] - ERA5_MAM['t2m'].sel(time=slice('1979','2010')).mean('time')\n",
    "ERA5_anomaly.attrs = {\n",
    "    'long_name': 'August temperature anomaly',\n",
    "    'units': 'C'\n",
    "}\n",
    "ERA5_sd_anomaly = ERA5_anomaly / ERA5_MAM['t2m'].sel(time=slice('1979','2010')).std('time')\n",
    "ERA5_sd_anomaly.attrs = {\n",
    "    'long_name': 'August temperature standardized anomaly',\n",
    "    'units': '-'\n",
    "}"
   ]
  },
  {
   "cell_type": "code",
   "execution_count": null,
   "metadata": {},
   "outputs": [],
   "source": [
    "area_weights_ERA = np.cos(np.deg2rad(ERA5_sd_anomaly.latitude))\n",
    "\n",
    "ERA5_Siberia_events = (\n",
    "    ERA5_sd_anomaly.sel(  # Select 2 metre temperature\n",
    "        latitude=slice(70, 50),        # Select the latitudes\n",
    "        longitude=slice(65, 120)).    # Select the longitude\n",
    "    weighted(area_weights_ERA).       # weights \n",
    "    mean(['longitude', 'latitude']))  # Take the average"
   ]
  },
  {
   "cell_type": "code",
   "execution_count": null,
   "metadata": {},
   "outputs": [],
   "source": [
    "plt.figure(frameon=False, figsize=(90 / 25.4, 60 / 25.4))\n",
    "ERA5_Siberia_events.plot()\n",
    "plt.ylabel('MAM standardized anomaly')\n",
    "# plt.savefig('graphs/Siberia_anomaly_timeseries.pdf', bbox_layout = 'tight')"
   ]
  },
  {
   "cell_type": "code",
   "execution_count": null,
   "metadata": {},
   "outputs": [],
   "source": []
  }
 ],
 "metadata": {
  "kernelspec": {
   "display_name": "UNSEEN-venv",
   "language": "python",
   "name": "python3"
  },
  "language_info": {
   "codemirror_mode": {
    "name": "ipython",
    "version": 3
   },
   "file_extension": ".py",
   "mimetype": "text/x-python",
   "name": "python",
   "nbconvert_exporter": "python",
   "pygments_lexer": "ipython3",
   "version": "3.11.3"
  }
 },
 "nbformat": 4,
 "nbformat_minor": 4
}
