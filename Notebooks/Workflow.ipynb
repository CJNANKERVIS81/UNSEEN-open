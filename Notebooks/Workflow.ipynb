{
 "cells": [
  {
   "cell_type": "markdown",
   "metadata": {},
   "source": [
    "# UNSEEN-open\n",
    "\n",
    "In this project, the aim is to build an open, reproducible, and transferable workflow for UNSEEN -- an increasingly popular method that exploits seasonal prediction systems to assess and anticipate climate extremes beyond the observed record. The approach uses pooled forecasts as plausible alternate realities. Instead of the 'single realization' of reality, pooled forecasts can be exploited to better assess the likelihood of infrequent events. \n",
    "We will illustrate the application for February 2020 UK precipitation and the 2020 Siberian heatwave. \n",
    "\n",
    "February average precipitation was the highest on record in the UK: with what frequency of occurrence can February extreme precipitation events such as the 2020 event be expected?\n",
    "\n",
    "The Siberian heatwave has broken the records as well. Could such an event be anticipation with UNSEEN? And to what extend can we expect changes in the frequency of occurrence and magnitude of these kind of events?"
   ]
  },
  {
   "cell_type": "markdown",
   "metadata": {},
   "source": [
    "![title](../graphs/Workflow.png)"
   ]
  },
  {
   "cell_type": "markdown",
   "metadata": {},
   "source": [
    "\n",
    "- **Download**\n",
    "    - [1. Retrieve](1.Download/1.Retrieve.ipynb) \n",
    "- **Pre-process**\n",
    "    - [2.1 Merge](2.Preprocess/2.1Merge.ipynb)  \n",
    "    - [2.2 Mask](2.Preprocess/2.2Mask.ipynb)\n",
    "    - [2.3 Upscale](2.Preprocess/2.3Upscale.ipynb)\n",
    "- **Evaluate**\n",
    "    - [3. Evaluate](3.Evaluate/3.Evaluate.ipynb)\n",
    "- **Illustrate**\n",
    "    "
   ]
  },
  {
   "cell_type": "markdown",
   "metadata": {},
   "source": [
    "# Download"
   ]
  },
  {
   "cell_type": "code",
   "execution_count": 1,
   "metadata": {},
   "outputs": [],
   "source": [
    "import sys\n",
    "sys.path.append('../')\n",
    "import src.CDSretrieve as retrieve"
   ]
  },
  {
   "cell_type": "markdown",
   "metadata": {},
   "source": [
    "We retrieve all SEAS5 seasonal forecasts that are forecasting the target months. "
   ]
  },
  {
   "cell_type": "code",
   "execution_count": 5,
   "metadata": {},
   "outputs": [
    {
     "data": {
      "text/plain": [
       "''"
      ]
     },
     "execution_count": 5,
     "metadata": {},
     "output_type": "execute_result"
    }
   ],
   "source": [
    "retrieve.retrieve_SEAS5(variables = ['2m_temperature','2m_dewpoint_temperature'], target_months = [3,4,5], \n",
    "         area = [70, -11, 30, 120], folder = '../../Siberia_example/SEAS5/')\n",
    ";"
   ]
  },
  {
   "cell_type": "code",
   "execution_count": 7,
   "metadata": {},
   "outputs": [
    {
     "name": "stderr",
     "output_type": "stream",
     "text": [
      "2020-09-08 12:18:13,585 INFO Welcome to the CDS\n",
      "2020-09-08 12:18:13,589 INFO Sending request to https://cds.climate.copernicus.eu/api/v2/resources/seasonal-monthly-single-levels\n",
      "2020-09-08 12:18:15,529 INFO Request is completed\n",
      "2020-09-08 12:18:15,536 INFO Downloading http://136.156.132.198/cache-compute-0003/cache/data9/adaptor.mars.external-1599563602.3918996-4712-11-f59f22a8-37df-44ca-bc07-a1d3620b8af1.nc to ../../UK_example/SEAS5/201701.nc (16.8K)\n",
      "2020-09-08 12:18:15,574 INFO Download rate 470.6K/s\n",
      "2020-09-08 12:18:17,465 INFO Welcome to the CDS\n",
      "2020-09-08 12:18:17,467 INFO Sending request to https://cds.climate.copernicus.eu/api/v2/resources/seasonal-monthly-single-levels\n",
      "2020-09-08 12:18:19,505 INFO Request is queued\n",
      "2020-09-08 12:18:22,039 INFO Request is running\n",
      "2020-09-08 12:18:51,818 INFO Request is completed\n",
      "2020-09-08 12:18:51,819 INFO Downloading http://136.156.132.210/cache-compute-0005/cache/data9/adaptor.mars.external-1599563900.9456291-30822-17-89b189ce-e57a-42ab-81a1-8176f3024a7c.nc to ../../UK_example/SEAS5/201612.nc (8.9K)\n",
      "2020-09-08 12:18:51,864 INFO Download rate 208.2K/s\n",
      "2020-09-08 12:18:54,041 INFO Welcome to the CDS\n",
      "2020-09-08 12:18:54,043 INFO Sending request to https://cds.climate.copernicus.eu/api/v2/resources/seasonal-monthly-single-levels\n",
      "2020-09-08 12:18:55,626 INFO Request is queued\n",
      "2020-09-08 12:19:03,822 INFO Request is running\n",
      "2020-09-08 12:19:27,938 INFO Request is completed\n",
      "2020-09-08 12:19:27,940 INFO Downloading http://136.156.132.235/cache-compute-0006/cache/data0/adaptor.mars.external-1599563942.0202916-24730-21-61fd1112-6efc-45eb-8414-73cb3c79f6af.nc to ../../UK_example/SEAS5/201611.nc (8.9K)\n",
      "2020-09-08 12:19:27,992 INFO Download rate 174.7K/s\n",
      "2020-09-08 12:19:29,458 INFO Welcome to the CDS\n",
      "2020-09-08 12:19:29,459 INFO Sending request to https://cds.climate.copernicus.eu/api/v2/resources/seasonal-monthly-single-levels\n",
      "2020-09-08 12:19:31,637 INFO Request is queued\n",
      "2020-09-08 12:19:34,172 INFO Request is running\n",
      "2020-09-08 12:19:44,916 INFO Request is completed\n",
      "2020-09-08 12:19:44,918 INFO Downloading http://136.156.133.46/cache-compute-0015/cache/data3/adaptor.mars.external-1599563974.0478404-9401-3-2f5409e7-a628-453e-911c-1f672f1f31a5.nc to ../../UK_example/SEAS5/201610.nc (8.9K)\n",
      "2020-09-08 12:19:44,952 INFO Download rate 281.5K/s\n",
      "2020-09-08 12:19:47,019 INFO Welcome to the CDS\n",
      "2020-09-08 12:19:47,022 INFO Sending request to https://cds.climate.copernicus.eu/api/v2/resources/seasonal-monthly-single-levels\n",
      "2020-09-08 12:19:49,043 INFO Request is queued\n",
      "2020-09-08 12:19:51,577 INFO Request is running\n",
      "2020-09-08 12:20:09,944 INFO Request is completed\n",
      "2020-09-08 12:20:09,946 INFO Downloading http://136.156.132.105/cache-compute-0000/cache/data7/adaptor.mars.external-1599563991.3792207-19182-39-2c47fc64-6219-4729-8f3d-933ee92a9a74.nc to ../../UK_example/SEAS5/201609.nc (8.9K)\n",
      "2020-09-08 12:20:09,991 INFO Download rate 201.9K/s\n"
     ]
    },
    {
     "data": {
      "text/plain": [
       "''"
      ]
     },
     "execution_count": 7,
     "metadata": {},
     "output_type": "execute_result"
    }
   ],
   "source": [
    "retrieve.retrieve_SEAS5(variables = 'total_precipitation', target_months = [2], \n",
    "         area = [60, -11, 50, 2], folder = '../../UK_example/SEAS5/')\n",
    ";"
   ]
  },
  {
   "cell_type": "markdown",
   "metadata": {},
   "source": [
    "And we retrieve ERA5 reanalysis for the same regions and variables:"
   ]
  },
  {
   "cell_type": "code",
   "execution_count": null,
   "metadata": {},
   "outputs": [],
   "source": [
    "retrieve.retrieve_ERA5(variables = ['2m_temperature','2m_dewpoint_temperature'], target_months = [3,4,5], \n",
    "         area = [70, -11, 30, 120], folder = '../../Siberia_example/ERA5/')\n",
    ";"
   ]
  },
  {
   "cell_type": "code",
   "execution_count": null,
   "metadata": {},
   "outputs": [],
   "source": [
    "retrieve.retrieve_ERA5(variables = 'total_precipitation', target_months = [2], \n",
    "         area = [60, -11, 50, 2], folder = '../../UK_example/ERA5/')\n",
    ";"
   ]
  },
  {
   "cell_type": "markdown",
   "metadata": {},
   "source": [
    "# Preprocess"
   ]
  },
  {
   "cell_type": "markdown",
   "metadata": {},
   "source": [
    "In the preprocessing step, we first merge all downloaded files into one netcdf file.\n",
    "Then the rest of the preprocessing depends on the definition of the extreme event. For example, for the UK case study, we want to extract the UK average precipitation while for the Siberian heatwave we will just used the defined area to spatially average over. For the MAM season, we still need to take the seasonal average, while for the UK we already have the average February precipitation. "
   ]
  },
  {
   "cell_type": "code",
   "execution_count": null,
   "metadata": {},
   "outputs": [],
   "source": []
  }
 ],
 "metadata": {
  "kernelspec": {
   "display_name": "UNSEEN-open",
   "language": "python",
   "name": "unseen-open"
  },
  "language_info": {
   "codemirror_mode": {
    "name": "ipython",
    "version": 3
   },
   "file_extension": ".py",
   "mimetype": "text/x-python",
   "name": "python",
   "nbconvert_exporter": "python",
   "pygments_lexer": "ipython3",
   "version": "3.8.2"
  }
 },
 "nbformat": 4,
 "nbformat_minor": 4
}
