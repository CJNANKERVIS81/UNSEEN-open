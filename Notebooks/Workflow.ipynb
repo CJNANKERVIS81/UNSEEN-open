{
 "cells": [
  {
   "cell_type": "markdown",
   "metadata": {},
   "source": [
    "# UNSEEN-open: UK February 2020 precipitation \n",
    "\n",
    "In this project, the aim is to build an open, reproducible, and transferable workflow for UNSEEN -- an increasingly popular method that exploits seasonal prediction systems to assess and anticipate climate extremes beyond the observed record. The approach uses pooled forecasts as plausible alternate realities. Instead of the 'single realization' of reality, pooled forecasts can be exploited to better assess the likelihood of infrequent events. \n",
    "We will illustrate the application for February 2020 precipitation, which was the highest on record in the UK: with what frequency of occurrence can February extreme precipitation events such as the 2020 event be expected?"
   ]
  },
  {
   "cell_type": "markdown",
   "metadata": {},
   "source": [
    "![title](../graphs/Workflow.png)"
   ]
  },
  {
   "cell_type": "markdown",
   "metadata": {},
   "source": [
    "\n",
    "- **Download**\n",
    "    - [1. Retrieve](1.Download/1.Retrieve.ipynb) \n",
    "- **Pre-process**\n",
    "    - [2.1 Merge](2.Preprocess/2.1Merge.ipynb)  \n",
    "    - [2.2 Mask](2.Preprocess/2.2Mask.ipynb)\n",
    "    - [2.3 Upscale](2.Preprocess/2.3Upscale.ipynb)\n",
    "- **Evaluate**\n",
    "    - [3. Evaluate](3.Evaluate/3.Evaluate.ipynb)\n",
    "- **Illustrate**\n",
    "    "
   ]
  }
 ],
 "metadata": {
  "kernelspec": {
   "display_name": "UNSEEN-open",
   "language": "python",
   "name": "unseen-open"
  },
  "language_info": {
   "codemirror_mode": {
    "name": "ipython",
    "version": 3
   },
   "file_extension": ".py",
   "mimetype": "text/x-python",
   "name": "python",
   "nbconvert_exporter": "python",
   "pygments_lexer": "ipython3",
   "version": "3.8.2"
  }
 },
 "nbformat": 4,
 "nbformat_minor": 4
}
