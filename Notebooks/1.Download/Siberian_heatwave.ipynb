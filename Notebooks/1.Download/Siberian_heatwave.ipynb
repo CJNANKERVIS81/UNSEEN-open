{
 "cells": [
  {
   "cell_type": "markdown",
   "metadata": {},
   "source": [
    "## 1. Retrieve\n",
    "\n",
    "\n"
   ]
  },
  {
   "cell_type": "markdown",
   "metadata": {},
   "source": [
    "### Import packages"
   ]
  },
  {
   "cell_type": "code",
   "execution_count": 6,
   "metadata": {},
   "outputs": [
    {
     "name": "stdout",
     "output_type": "stream",
     "text": [
      "The autoreload extension is already loaded. To reload it, use:\n",
      "  %reload_ext autoreload\n"
     ]
    }
   ],
   "source": [
    "%load_ext autoreload\n",
    "\n",
    "%autoreload 2"
   ]
  },
  {
   "cell_type": "code",
   "execution_count": 2,
   "metadata": {},
   "outputs": [],
   "source": [
    "##This is so variables get printed within jupyter\n",
    "from IPython.core.interactiveshell import InteractiveShell \n",
    "InteractiveShell.ast_node_interactivity = \"all\""
   ]
  },
  {
   "cell_type": "code",
   "execution_count": 4,
   "metadata": {},
   "outputs": [],
   "source": [
    "##import packages\n",
    "import os\n",
    "import cdsapi ## check the current working directory, which should be the UNSEEN-open directory\n",
    "import numpy as np\n",
    "import xarray as xr\n",
    "import matplotlib.pyplot as plt\n",
    "import cartopy\n",
    "import cartopy.crs as ccrs"
   ]
  },
  {
   "cell_type": "code",
   "execution_count": 4,
   "metadata": {},
   "outputs": [],
   "source": [
    "import sys\n",
    "sys.path.append('../../')"
   ]
  },
  {
   "cell_type": "code",
   "execution_count": 7,
   "metadata": {},
   "outputs": [],
   "source": [
    "import src.CDSretrieve as retrieve"
   ]
  },
  {
   "cell_type": "code",
   "execution_count": 8,
   "metadata": {
    "scrolled": false
   },
   "outputs": [
    {
     "data": {
      "text/plain": [
       "'/lustre/soge1/projects/ls/personal/timo/UNSEEN-open/Notebooks/1.Download'"
      ]
     },
     "execution_count": 8,
     "metadata": {},
     "output_type": "execute_result"
    },
    {
     "data": {
      "text/plain": [
       "'/lustre/soge1/projects/ls/personal/timo/UNSEEN-open'"
      ]
     },
     "execution_count": 8,
     "metadata": {},
     "output_type": "execute_result"
    }
   ],
   "source": [
    "##We want the working directory to be the UNSEEN-open directory\n",
    "pwd = os.getcwd() ##current working directory is UNSEEN-open/Notebooks/1.Download\n",
    "pwd #print the present working directory\n",
    "os.chdir(pwd+'/../../') # Change the working directory to UNSEEN-open\n",
    "os.getcwd() #print the working directory"
   ]
  },
  {
   "cell_type": "markdown",
   "metadata": {},
   "source": [
    "## Download all data"
   ]
  },
  {
   "cell_type": "markdown",
   "metadata": {},
   "source": [
    "We will be using the SEAS5 hindcast, which is a dataset running from 1981-2016. The hindcast is initialized every month with 25 ensemble members and the forecast run for 6 months, indicated by blue horizontal bars below. February is forecasted by 6 initialization months (September-February). We discard the first month of the forecast because of dependence between the forecasts, explained in the evaluation section and are left with 5 initialization months (Sep-Jan) and 25 ensemble members forecasting february precipitation each year, totalling to an increase of 125 times the observed length.\n",
    "\n",
    "For a summary of all available C3S seasonal hindcasts, their initialization months and more specifics, please see [ECMWF page](https://confluence.ecmwf.int/display/CKB/C3S+Seasonal+Forecasts) and the [SEAS5 paper](https://doi.org/10.5194/gmd-12-1087-2019).  "
   ]
  },
  {
   "cell_type": "markdown",
   "metadata": {},
   "source": [
    "\n",
    "\n",
    "![title](../../graphs/Data_illustration.png)"
   ]
  },
  {
   "cell_type": "markdown",
   "metadata": {},
   "source": [
    "The first download example above downloaded all 25 ensemble members for the forecast initialized in January (the bottom bar). We should repeat this over the other initialization month and over all years (1981-2016)."
   ]
  },
  {
   "cell_type": "code",
   "execution_count": 9,
   "metadata": {
    "scrolled": true
   },
   "outputs": [
    {
     "data": {
      "text/plain": [
       "([10, 9, 8], [array([2, 3, 4]), array([3, 4, 5]), array([4, 5, 6])])"
      ]
     },
     "execution_count": 9,
     "metadata": {},
     "output_type": "execute_result"
    }
   ],
   "source": [
    "retrieve.get_init_months(target_month=[11,12,1])"
   ]
  },
  {
   "cell_type": "markdown",
   "metadata": {
    "scrolled": true
   },
   "source": [
    "Leadtimes should be [[2,3,4],[3,4,5],[4,5,6]]"
   ]
  },
  {
   "cell_type": "code",
   "execution_count": 10,
   "metadata": {},
   "outputs": [
    {
     "ename": "NameError",
     "evalue": "name 'years' is not defined",
     "output_type": "error",
     "traceback": [
      "\u001b[0;31m---------------------------------------------------------------------------\u001b[0m",
      "\u001b[0;31mNameError\u001b[0m                                 Traceback (most recent call last)",
      "\u001b[0;32m<ipython-input-10-5c84788860db>\u001b[0m in \u001b[0;36m<module>\u001b[0;34m\u001b[0m\n\u001b[0;32m----> 1\u001b[0;31m \u001b[0mretrieve\u001b[0m\u001b[0;34m.\u001b[0m\u001b[0mprint_arguments\u001b[0m\u001b[0;34m(\u001b[0m\u001b[0;34m[\u001b[0m\u001b[0;36m6\u001b[0m\u001b[0;34m,\u001b[0m\u001b[0;36m7\u001b[0m\u001b[0;34m,\u001b[0m\u001b[0;36m8\u001b[0m\u001b[0;34m]\u001b[0m\u001b[0;34m)\u001b[0m\u001b[0;34m\u001b[0m\u001b[0;34m\u001b[0m\u001b[0m\n\u001b[0m\u001b[1;32m      2\u001b[0m \u001b[0mretrieve\u001b[0m\u001b[0;34m.\u001b[0m\u001b[0mprint_arguments\u001b[0m\u001b[0;34m(\u001b[0m\u001b[0;36m2\u001b[0m\u001b[0;34m)\u001b[0m\u001b[0;34m\u001b[0m\u001b[0;34m\u001b[0m\u001b[0m\n",
      "\u001b[0;32m/lustre/soge1/projects/ls/personal/timo/UNSEEN-open/src/CDSretrieve.py\u001b[0m in \u001b[0;36mprint_arguments\u001b[0;34m(target_months)\u001b[0m\n\u001b[1;32m     29\u001b[0m                     \u001b[0myear\u001b[0m \u001b[0;34m=\u001b[0m \u001b[0myears\u001b[0m\u001b[0;34m[\u001b[0m\u001b[0mj\u001b[0m\u001b[0;34m]\u001b[0m\u001b[0;34m\u001b[0m\u001b[0;34m\u001b[0m\u001b[0m\n\u001b[1;32m     30\u001b[0m             \u001b[0;32melse\u001b[0m\u001b[0;34m:\u001b[0m\u001b[0;34m\u001b[0m\u001b[0;34m\u001b[0m\u001b[0m\n\u001b[0;32m---> 31\u001b[0;31m                 \u001b[0myear\u001b[0m \u001b[0;34m=\u001b[0m \u001b[0myears\u001b[0m\u001b[0;34m[\u001b[0m\u001b[0mj\u001b[0m\u001b[0;34m]\u001b[0m\u001b[0;34m\u001b[0m\u001b[0;34m\u001b[0m\u001b[0m\n\u001b[0m\u001b[1;32m     32\u001b[0m             print('year = ' + str(year) + ' init_month = ' + str(init_month) +\n\u001b[1;32m     33\u001b[0m                   ' leadtime_month = ' + str(leadtime_months))\n",
      "\u001b[0;31mNameError\u001b[0m: name 'years' is not defined"
     ]
    }
   ],
   "source": [
    "retrieve.print_arguments([6,7,8])\n",
    "retrieve.print_arguments(2)"
   ]
  },
  {
   "cell_type": "markdown",
   "metadata": {},
   "source": [
    "For our download, we loop over initialization months and years. Because we only want February precipitation, the leadtime month (forecast length) changes with the initialization month. For example, in the September initialized forecasts, we only want the leadtime month 6 = February. For August initialized this is leadtime 5, etc. Furthermore, the year the forecast is initialized is required for the download. For September - December initialized forecasts, this is the target year-1. For January it is the same year as the target year. For example, for the first two target years this looks like the following:"
   ]
  },
  {
   "cell_type": "markdown",
   "metadata": {},
   "source": [
    "Write a function that is used for the download."
   ]
  },
  {
   "cell_type": "markdown",
   "metadata": {},
   "source": [
    "And start the download! In total, we request 35 years x  initialization dates = 175 requests. \n",
    "I could try sending just 5 request of the different initialization dates for all years?"
   ]
  },
  {
   "cell_type": "markdown",
   "metadata": {},
   "source": [
    "The download sometimes fails. When redoing the request it does download. I don't know what is causing the failure? Below I donwload the file that failed. "
   ]
  },
  {
   "cell_type": "code",
   "execution_count": 34,
   "metadata": {},
   "outputs": [],
   "source": [
    "retrieve_SEAS5(variables = ['2m_temperature','2m_dewpoint_temperature'], target_months = [6,7,8], \n",
    "         area = [70, -11, 30, 120], folder = '../Siberia_example/')"
   ]
  },
  {
   "cell_type": "code",
   "execution_count": 34,
   "metadata": {},
   "outputs": [],
   "source": [
    "retrieve_SEAS5(variables = 'total_precipitation', target_months = [2], \n",
    "         area = [60, -11, 50, 2], folder = '../UK_example/')"
   ]
  },
  {
   "cell_type": "markdown",
   "metadata": {},
   "source": [
    "## ERA5 data download\n",
    "\n",
    "ERA5 is downloaded using the monthly means for single levels `reanalysis-era5-single-levels-monthly-means`. \n",
    "The function takes the variables, target months, area and folder. The function downloads the data on a 1x1 degree grid, similar to the SEAS5 data. The default dataset is 0.25 x 0.25 (so higher resolution data is available). \n"
   ]
  },
  {
   "cell_type": "code",
   "execution_count": 2,
   "metadata": {},
   "outputs": [],
   "source": [
    "def retrieve_ERA5(variables,\n",
    "                  folder,\n",
    "                  grid = [1.0, 1.0],\n",
    "                  target_months=[\n",
    "                      '01',\n",
    "                      '02',\n",
    "                      '03',\n",
    "                      '04',\n",
    "                      '05',\n",
    "                      '06',\n",
    "                      '07',\n",
    "                      '08',\n",
    "                      '09',\n",
    "                      '10',\n",
    "                      '11',\n",
    "                      '12',\n",
    "                  ],\n",
    "                  area=[90, -180, -90, 180]):\n",
    "    \"\"\"Retrieves the full ERA5 dataset from CDS (years 1979-2020).\n",
    "        \n",
    "        Parameters\n",
    "        ----------\n",
    "        variables : The variables to be downloaded, str. Can also be one variable.\n",
    "        folder : The path to the folder where to store the data. \n",
    "        grid : The grid spacing, or spatial resolution of the data. \n",
    "            Defaults to 1x1 degrees to match SEAS5.\n",
    "            If a higher resolution is wanted, use [0.25, 0.25].\n",
    "        target_months : The month(s) of interest.\n",
    "            For example, for JJA, use [6,7,8]. \n",
    "            Defaults to all months. \n",
    "        area : The domain to download the data over, [North, West, South, East,].\n",
    "            For example, to dowload longitude 30,70 and latitude -10, 120, use [70, -11, 30, 120,].\n",
    "            Default is the full extent [90, -180, -90, 180].\n",
    "\n",
    "        Returns\n",
    "        -------\n",
    "        Saves the files in the specified folder.\n",
    "    \"\"\"\n",
    "    c.retrieve(\n",
    "        'reanalysis-era5-single-levels-monthly-means',\n",
    "        {\n",
    "            'format':\n",
    "            'netcdf',\n",
    "            'product_type':\n",
    "            'monthly_averaged_reanalysis',\n",
    "            'variable': variables,\n",
    "            'area':     area,         \n",
    "            'grid':     [1.0, 1.0],  \n",
    "            'year': [\n",
    "                '1979',\n",
    "                '1980',\n",
    "                '1981',\n",
    "                '1982',\n",
    "                '1983',\n",
    "                '1984',\n",
    "                '1985',\n",
    "                '1986',\n",
    "                '1987',\n",
    "                '1988',\n",
    "                '1989',\n",
    "                '1990',\n",
    "                '1991',\n",
    "                '1992',\n",
    "                '1993',\n",
    "                '1994',\n",
    "                '1995',\n",
    "                '1996',\n",
    "                '1997',\n",
    "                '1998',\n",
    "                '1999',\n",
    "                '2000',\n",
    "                '2001',\n",
    "                '2002',\n",
    "                '2003',\n",
    "                '2004',\n",
    "                '2005',\n",
    "                '2006',\n",
    "                '2007',\n",
    "                '2008',\n",
    "                '2009',\n",
    "                '2010',\n",
    "                '2011',\n",
    "                '2012',\n",
    "                '2013',\n",
    "                '2014',\n",
    "                '2015',\n",
    "                '2016',\n",
    "                '2017',\n",
    "                '2018',\n",
    "                '2019',\n",
    "                '2020',\n",
    "            ],\n",
    "            'month':\n",
    "            target_months,\n",
    "            'time':\n",
    "            '00:00',\n",
    "        },\n",
    "        folder + 'ERA5_1x1.nc')"
   ]
  },
  {
   "cell_type": "code",
   "execution_count": null,
   "metadata": {},
   "outputs": [],
   "source": [
    "\n"
   ]
  }
 ],
 "metadata": {
  "kernelspec": {
   "display_name": "UNSEEN-open",
   "language": "python",
   "name": "unseen-open"
  },
  "language_info": {
   "codemirror_mode": {
    "name": "ipython",
    "version": 3
   },
   "file_extension": ".py",
   "mimetype": "text/x-python",
   "name": "python",
   "nbconvert_exporter": "python",
   "pygments_lexer": "ipython3",
   "version": "3.8.2"
  }
 },
 "nbformat": 4,
 "nbformat_minor": 4
}
